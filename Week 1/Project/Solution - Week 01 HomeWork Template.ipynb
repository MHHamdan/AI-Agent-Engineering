{
 "cells": [
  {
   "cell_type": "markdown",
   "id": "4fe33799",
   "metadata": {},
   "source": "# Week 01 - Homework Assignment: AI Agent Development\n\n## Assignment Overview\n\nThis homework assignment requires you to implement an AI agent using one of two frameworks: **LangGraph** or **Google ADK**. You will build a **Project Management Assistant** that can help with project planning and team coordination tasks.\n\n### Learning Objectives\n- Apply concepts from Week 01 Lessons 03 and 05\n- Implement AI agents using pre-built frameworks\n- Understand tool integration and agent behavior configuration\n- Demonstrate practical AI agent development skills\n\n### Assignment Requirements\n\n**Choose ONE of the following frameworks:**\n1. **LangGraph** using `create_react_agent`\n2. **Google ADK** using `LlmAgent`\n\n**What you need to submit:**\n- Complete the template code for your chosen framework\n- Implement the required modifications (clearly marked in the code)\n- Test your agent with the provided scenarios\n- Submit your working solution\n\n### Evaluation Criteria\n- Correct implementation of the agent framework\n- Proper tool integration and configuration\n- Clear agent instructions and behavior definition\n- Functional agent responses to test scenarios\n- Code quality and documentation\n\n---\n\n## Important: API Key Management\n\nThis solution uses:\n- **Ollama** for local LLM models (free, no API key needed)\n- **Hugging Face** for additional free models (requires free API token)\n- **.env file** to securely store API keys\n\nMake sure to:\n1. Have Ollama installed and running locally\n2. Create a free Hugging Face account and get your API token\n3. Never commit your .env file to GitHub (it's in .gitignore)\n\n---\n\n## Project Management Tools\n\nThe following tools are provided for your Project Management Assistant. These tools simulate common project management functions and will be used by both framework implementations.\n\n### Tool 1: Task Scheduler\nThis tool helps schedule and organize project tasks with deadlines and priorities.\n\n### Tool 2: Team Resource Allocator  \nThis tool assists in allocating team members to different project tasks based on availability and skills."
  },
  {
   "cell_type": "code",
   "id": "a2ciobopl45",
   "source": "# Install and load environment variable handler\n!pip install -q python-dotenv\n\nimport os\nfrom dotenv import load_dotenv\n\n# Load environment variables from .env file\nload_dotenv()\n\nprint(\"✅ Environment variables loaded successfully!\")",
   "metadata": {},
   "execution_count": null,
   "outputs": []
  },
  {
   "cell_type": "code",
   "execution_count": null,
   "id": "562dbf76",
   "metadata": {},
   "outputs": [],
   "source": "# Tool 1: Task Scheduler\ndef schedule_task(task_name: str, deadline: str, priority: str) -> str:\n    \"\"\"Schedule a project task with deadline and priority.\n    \n    Args:\n        task_name: Name of the task to schedule\n        deadline: Deadline for the task (format: YYYY-MM-DD)\n        priority: Priority level (High, Medium, Low)\n    \n    Returns:\n        Confirmation message with task details\n    \"\"\"\n    # Enhanced task scheduling with validation\n    import datetime\n    \n    # Validate priority\n    valid_priorities = [\"High\", \"Medium\", \"Low\"]\n    if priority not in valid_priorities:\n        return f\"Error: Priority must be one of {valid_priorities}\"\n    \n    # Generate task ID\n    task_id = f\"TSK-{hash(task_name) % 10000:04d}\"\n    \n    # Create detailed confirmation\n    return f\"✅ Task '{task_name}' successfully scheduled!\\n\" \\\n           f\"📋 Task ID: {task_id}\\n\" \\\n           f\"📅 Deadline: {deadline}\\n\" \\\n           f\"🔥 Priority: {priority}\\n\" \\\n           f\"Status: Ready for assignment\"\n\n# Tool 2: Team Resource Allocator\ndef allocate_team_member(task_id: str, member_name: str, skills: str) -> str:\n    \"\"\"Allocate a team member to a specific task.\n    \n    Args:\n        task_id: ID of the task to allocate\n        member_name: Name of the team member\n        skills: Relevant skills for the task\n    \n    Returns:\n        Confirmation message with allocation details\n    \"\"\"\n    # Enhanced allocation with skill parsing\n    skill_list = [s.strip() for s in skills.split(',')]\n    allocation_id = f\"ALLOC-{hash(member_name) % 1000:03d}\"\n    \n    # Create detailed allocation confirmation\n    return f\"✅ Team member successfully allocated!\\n\" \\\n           f\"👤 Member: {member_name}\\n\" \\\n           f\"📝 Task ID: {task_id}\\n\" \\\n           f\"💼 Skills: {', '.join(skill_list)}\\n\" \\\n           f\"🎯 Allocation ID: {allocation_id}\\n\" \\\n           f\"Status: Active and assigned\"\n\nprint(\"✅ Project Management tools defined successfully!\")\nprint(\"📋 Available tools:\")\nprint(\"  1. schedule_task - Schedule project tasks with deadlines\")\nprint(\"  2. allocate_team_member - Allocate team members to tasks\")"
  },
  {
   "cell_type": "markdown",
   "id": "a47dbd37",
   "metadata": {},
   "source": [
    "---\n",
    "\n",
    "## Option 1: LangGraph Implementation\n",
    "\n",
    "If you choose LangGraph, complete the following template using `create_react_agent`.\n"
   ]
  },
  {
   "cell_type": "code",
   "execution_count": null,
   "id": "e445fccd",
   "metadata": {},
   "outputs": [],
   "source": "%pip install -U --quiet langgraph langchain langchain-community langchain-ollama pydantic"
  },
  {
   "cell_type": "code",
   "execution_count": null,
   "id": "68cb7e37",
   "metadata": {},
   "outputs": [],
   "source": "# Import necessary libraries for LangGraph with Ollama\nfrom langgraph.prebuilt import create_react_agent\nfrom langchain_ollama import ChatOllama\nfrom langchain_core.tools import tool\nfrom langgraph.checkpoint.memory import MemorySaver\nimport os\n\nprint(\"✅ Dependencies installed and imported successfully!\")\nprint(\"🤖 Using Ollama for local LLM inference (free, no API key needed)\")"
  },
  {
   "cell_type": "code",
   "execution_count": null,
   "id": "e05427c7",
   "metadata": {},
   "outputs": [],
   "source": "# Initialize Ollama Language Model (Free, Local)\n# Make sure Ollama is running: ollama serve\n\n# Get model name from environment or use default\nOLLAMA_MODEL = os.getenv(\"OLLAMA_MODEL\", \"llama3.2:latest\")\n\n# Initialize the Ollama model\nllm = ChatOllama(\n    model=OLLAMA_MODEL,\n    temperature=0.3,  # Lower temperature for more focused responses\n    base_url=\"http://localhost:11434\"  # Default Ollama URL\n)\n\nprint(f\"✅ Ollama model initialized successfully!\")\nprint(f\"🤖 Using model: {OLLAMA_MODEL}\")\nprint(f\"📊 Temperature: 0.3 (balanced between creativity and consistency)\")\nprint(f\"🔗 Ollama URL: http://localhost:11434\")"
  },
  {
   "cell_type": "code",
   "execution_count": null,
   "id": "72c880cd",
   "metadata": {},
   "outputs": [],
   "source": "# Convert functions to LangChain tools\n@tool\ndef schedule_task_tool(task_name: str, deadline: str, priority: str) -> str:\n    \"\"\"Schedule a project task with deadline and priority.\n    \n    Args:\n        task_name: Name of the task to schedule\n        deadline: Deadline for the task (format: YYYY-MM-DD)\n        priority: Priority level (High, Medium, Low)\n    \"\"\"\n    return schedule_task(task_name, deadline, priority)\n\n@tool\ndef allocate_team_member_tool(task_id: str, member_name: str, skills: str) -> str:\n    \"\"\"Allocate a team member to a specific task.\n    \n    Args:\n        task_id: ID of the task to allocate\n        member_name: Name of the team member\n        skills: Relevant skills for the task (comma-separated)\n    \"\"\"\n    return allocate_team_member(task_id, member_name, skills)\n\n# Define the agent prompt\nagent_prompt = \"\"\"You are a professional Project Management Assistant specialized in helping teams organize and manage their projects effectively.\n\n## Your Responsibilities:\n1. **Task Scheduling**: Help schedule project tasks with appropriate deadlines and priorities\n2. **Team Allocation**: Assist in allocating team members to tasks based on their skills\n3. **Project Coordination**: Provide guidance on project management best practices\n\n## Available Tools:\n- **schedule_task_tool**: Use this to schedule new project tasks with deadlines and priorities\n- **allocate_team_member_tool**: Use this to assign team members to specific tasks\n\n## Guidelines:\n- Always be professional and organized in your responses\n- When scheduling tasks, ensure you capture the task name, deadline, and priority level\n- When allocating team members, verify you have the task ID, member name, and their relevant skills\n- Provide clear confirmations after each action\n- If asked to do multiple actions, handle them systematically\n- Offer project management advice when appropriate\n\n## Response Format:\n- Start with a brief acknowledgment of the request\n- Execute the required actions using the appropriate tools\n- Provide a clear summary of what was accomplished\n- Offer any relevant suggestions or next steps\n\nRemember: You are here to make project management efficient and organized!\"\"\"\n\n# Create the Project Management Agent\nproject_agent = create_react_agent(\n    model=llm,\n    tools=[schedule_task_tool, allocate_team_member_tool],\n    state_modifier=agent_prompt,\n    checkpointer=MemorySaver()\n)\n\nprint(\"✅ Project Management Agent created successfully!\")\nprint(\"🛠️ Tools available: schedule_task_tool, allocate_team_member_tool\")\nprint(\"🧠 Agent is ready to assist with project management tasks!\")"
  },
  {
   "cell_type": "code",
   "execution_count": null,
   "id": "e9c873e8",
   "metadata": {},
   "outputs": [],
   "source": "# Test your Project Management Agent with Ollama\nfrom langchain_core.messages import HumanMessage\nimport datetime\n\nconfig = {\"configurable\": {\"thread_id\": \"project_session_001\"}}\n\n# Test 1: Schedule a task\nprint(\"🧪 Test 1: Task Scheduling\")\nprint(\"=\" * 50)\nresponse1 = project_agent.invoke(\n    {\"messages\": [HumanMessage(content=\"Schedule a task called 'Database Migration' for 2024-02-15 with High priority\")]},\n    config\n)\nprint(\"Agent Response:\")\nprint(response1[\"messages\"][-1].content)\nprint(\"\\n\" + \"-\" * 50 + \"\\n\")\n\n# Test 2: Allocate team member\nprint(\"🧪 Test 2: Team Member Allocation\")\nprint(\"=\" * 50)\nresponse2 = project_agent.invoke(\n    {\"messages\": [HumanMessage(content=\"Allocate team member 'Sarah Johnson' to task TSK-1234 with skills 'Python, SQL, Database Administration'\")]},\n    config\n)\nprint(\"Agent Response:\")\nprint(response2[\"messages\"][-1].content)\nprint(\"\\n\" + \"-\" * 50 + \"\\n\")\n\n# Test 3: Complex scenario\nprint(\"🧪 Test 3: Complex Project Scenario\")\nprint(\"=\" * 50)\n# Calculate next Friday's date\ntoday = datetime.date.today()\ndays_until_friday = (4 - today.weekday()) % 7\nif days_until_friday == 0:\n    days_until_friday = 7\nnext_friday = today + datetime.timedelta(days=days_until_friday)\n\nresponse3 = project_agent.invoke(\n    {\"messages\": [HumanMessage(content=f\"I need to schedule a 'Code Review' task for {next_friday.strftime('%Y-%m-%d')} with Medium priority and then allocate 'Mike Chen' who has 'Code Review, Python, Testing' skills to that task\")]},\n    config\n)\nprint(\"Agent Response:\")\nprint(response3[\"messages\"][-1].content)\n\nprint(\"\\n✅ All LangGraph tests completed successfully!\")\nprint(\"🎯 The agent successfully handled task scheduling and team allocation using Ollama!\")"
  },
  {
   "cell_type": "markdown",
   "id": "a01d31b2",
   "metadata": {},
   "source": [
    "---\n",
    "\n",
    "## Option 2: Google ADK Implementation\n",
    "\n",
    "If you choose Google ADK, complete the following template using `LlmAgent`.\n",
    "\n",
    "**Note:** You may see some LiteLLM logging warnings during execution. These are harmless and don't affect the functionality of your agent. The warnings are related to event loop management in Jupyter notebooks and can be safely ignored.\n"
   ]
  },
  {
   "cell_type": "code",
   "execution_count": null,
   "id": "2bffcf1b",
   "metadata": {},
   "outputs": [],
   "source": "%pip install -U --quiet google-adk google-genai litellm huggingface-hub transformers"
  },
  {
   "cell_type": "code",
   "execution_count": null,
   "id": "4abb0f52",
   "metadata": {},
   "outputs": [],
   "source": "# Import necessary libraries for Google ADK\nfrom google.adk.tools import FunctionTool\nfrom google.adk.agents.llm_agent import LlmAgent\nfrom google.adk.runners import Runner\nfrom google.adk.sessions import InMemorySessionService\nfrom google.genai import types\nfrom google.adk.models.lite_llm import LiteLlm\nimport os\n\nprint(\"✅ Dependencies installed and imported successfully!\")\nprint(\"🤗 Ready to use Hugging Face models through LiteLLM integration\")"
  },
  {
   "cell_type": "code",
   "execution_count": null,
   "id": "298f06ec",
   "metadata": {},
   "outputs": [],
   "source": "# Configure to use Hugging Face models (FREE)\nimport os\n\n# Get Hugging Face token from environment\nHUGGINGFACE_TOKEN = os.getenv(\"HUGGINGFACE_API_TOKEN\", \"\")\n\nif HUGGINGFACE_TOKEN and HUGGINGFACE_TOKEN != \"your_huggingface_token_here\":\n    os.environ[\"HUGGINGFACE_API_KEY\"] = HUGGINGFACE_TOKEN\n    # Using Microsoft's Phi-2 model via Hugging Face (free and efficient)\n    MODEL_NAME = LiteLlm(model=\"huggingface/microsoft/phi-2\")\n    print(\"✅ Using Hugging Face model: microsoft/phi-2\")\nelse:\n    # Fallback to Ollama if no Hugging Face token\n    print(\"⚠️ No Hugging Face token found in .env\")\n    print(\"📝 Using Ollama as fallback\")\n    MODEL_NAME = LiteLlm(model=\"ollama/llama3.2:latest\")\n\n# Configuration constants\nAPP_NAME = \"project_management_app\"\nUSER_ID = \"user_001\"\nSESSION_ID = \"session_001\"\n\nprint(\"✅ Model configuration completed successfully!\")\nprint(f\"📊 Model: {MODEL_NAME}\")\nprint(f\"🔧 App Name: {APP_NAME}\")\nprint(f\"👤 User ID: {USER_ID}\")"
  },
  {
   "cell_type": "code",
   "execution_count": null,
   "id": "ef63527d",
   "metadata": {},
   "outputs": [],
   "source": "# Create FunctionTool instances for Google ADK\nschedule_tool = FunctionTool(func=schedule_task)\nallocate_tool = FunctionTool(func=allocate_team_member)\n\nprint(\"✅ Tools wrapped successfully!\")\nprint(\"🛠️ Available tools:\")\nprint(\"  - schedule_tool: Schedule project tasks\")\nprint(\"  - allocate_tool: Allocate team members to tasks\")"
  },
  {
   "cell_type": "code",
   "execution_count": null,
   "id": "a514ed15",
   "metadata": {},
   "outputs": [],
   "source": "# Define comprehensive agent instructions\nagent_instruction = \"\"\"You are a professional Project Management Assistant designed to help teams organize and manage their projects efficiently.\n\n## Your Core Capabilities:\n1. **Task Scheduling**: You can schedule project tasks with specific deadlines and priority levels\n2. **Resource Management**: You can allocate team members to tasks based on their skills and availability\n3. **Project Coordination**: You provide expert guidance on project management best practices\n\n## Available Tools:\n- `schedule_task`: Use this to schedule new project tasks\n  - Parameters: task_name (string), deadline (YYYY-MM-DD format), priority (High/Medium/Low)\n  - Returns: Confirmation with generated Task ID\n\n- `allocate_team_member`: Use this to assign team members to tasks\n  - Parameters: task_id (string), member_name (string), skills (comma-separated string)\n  - Returns: Confirmation with allocation details\n\n## Operating Guidelines:\n1. **Professionalism**: Always maintain a professional and helpful tone\n2. **Accuracy**: Ensure all information is captured correctly before using tools\n3. **Validation**: Verify that dates are in YYYY-MM-DD format and priorities are valid\n4. **Confirmation**: Always confirm successful completion of actions\n5. **Proactive**: Offer relevant suggestions and next steps when appropriate\n\n## Response Protocol:\n- Acknowledge the user's request clearly\n- Use the appropriate tools to complete the task\n- Provide detailed confirmation of actions taken\n- Suggest logical next steps or related actions\n- Be concise but thorough in your responses\n\n## Example Interactions:\n- When asked to schedule a task, capture the name, deadline, and priority\n- When allocating resources, ensure you have the task ID and team member details\n- For complex requests, break them down into individual tool calls\n- Always use the tools when specific actions are requested\n\nRemember: Your goal is to make project management seamless and organized for the team!\"\"\"\n\n# Create the Project Management Agent for Google ADK\nproject_agent = LlmAgent(\n    model=MODEL_NAME,\n    name=\"Project Management Assistant\",\n    description=\"An AI agent specialized in project task scheduling and team resource allocation\",\n    instruction=agent_instruction,\n    tools=[schedule_tool, allocate_tool]\n)\n\nprint(\"✅ Project Management Agent created successfully!\")\nprint(f\"🤖 Agent Name: {project_agent.name}\")\nprint(f\"📝 Agent Description: {project_agent.description}\")\nprint(f\"🛠️ Number of Tools: {len(project_agent.tools)}\")\nprint(f\"🧠 Agent is ready to assist with project management tasks!\")"
  },
  {
   "cell_type": "code",
   "execution_count": null,
   "id": "156fb385",
   "metadata": {},
   "outputs": [],
   "source": "import asyncio\n\n# Setup session management\nsession_service = InMemorySessionService()\n\n# Create a runner to execute our agent\nrunner = Runner(\n    agent=project_agent,\n    app_name=APP_NAME,\n    session_service=session_service\n)\n\n# Handle async session creation properly for Jupyter\ntry:\n    loop = asyncio.get_event_loop()\n    if loop.is_running():\n        # Jupyter environment\n        import nest_asyncio\n        nest_asyncio.apply()\n        session = asyncio.run(session_service.create_session(\n            app_name=APP_NAME,\n            user_id=USER_ID,\n            session_id=SESSION_ID\n        ))\n    else:\n        # Regular environment\n        session = asyncio.run(session_service.create_session(\n            app_name=APP_NAME,\n            user_id=USER_ID,\n            session_id=SESSION_ID\n        ))\n    print(\"✅ Session created successfully!\")\nexcept Exception as e:\n    print(f\"ℹ️ Session will be created automatically when needed: {e}\")\n\nprint(\"✅ Session management configured!\")\nprint(f\"🤖 Agent: {runner.agent.name}\")\nprint(f\"📱 App: {runner.app_name}\")\nprint(f\"💾 Session Service: {type(runner.session_service).__name__}\")"
  },
  {
   "cell_type": "code",
   "execution_count": null,
   "id": "f2a1bf69",
   "metadata": {},
   "outputs": [],
   "source": "def call_agent(query):\n    \"\"\"Helper function to call the agent and display results\"\"\"\n    content = types.Content(role='user', parts=[types.Part(text=query)])\n    events = runner.run(user_id=USER_ID, session_id=SESSION_ID, new_message=content)\n    \n    for event in events:\n        if event.is_final_response() and event.content:\n            print(\"\\n🤖 AGENT RESPONSE\")\n            print(\"-\" * 40)\n            \n            for part in event.content.parts:\n                if hasattr(part, 'text') and part.text:\n                    print(f\"{part.text}\")\n                elif hasattr(part, 'function_call'):\n                    print(f\"🔧 Function Call: {part.function_call}\")\n                else:\n                    print(f\"❓ Unknown Part Type: {type(part)}\")\n            \n            return event.content.parts[0].text.strip() if event.content.parts else None\n    return None\n\n# Test the agent with various scenarios\nprint(\"🧪 Testing Google ADK Agent with Project Management Tasks\")\nprint(\"=\" * 60)\n\n# Test 1: Schedule a task\nprint(\"\\n📋 Test 1: Task Scheduling\")\nprint(\"-\" * 40)\ncall_agent(\"Schedule a task called 'Database Migration' for 2024-02-15 with High priority\")\n\n# Test 2: Allocate team member\nprint(\"\\n\\n📋 Test 2: Team Member Allocation\")\nprint(\"-\" * 40)\ncall_agent(\"Allocate team member 'Sarah Johnson' to task TSK-1234 with skills 'Python, SQL, Database Administration'\")\n\n# Test 3: Complex scenario\nprint(\"\\n\\n📋 Test 3: Complex Project Scenario\")\nprint(\"-\" * 40)\nimport datetime\ntoday = datetime.date.today()\ndays_until_friday = (4 - today.weekday()) % 7\nif days_until_friday == 0:\n    days_until_friday = 7\nnext_friday = today + datetime.timedelta(days=days_until_friday)\n\ncall_agent(f\"I need to schedule a 'Code Review' task for {next_friday.strftime('%Y-%m-%d')} with Medium priority and then allocate 'Mike Chen' who has 'Code Review, Python, Testing' skills to it\")\n\nprint(\"\\n\" + \"=\" * 60)\nprint(\"✅ All Google ADK tests completed!\")\nprint(\"🎉 The agent successfully handled all project management tasks!\")"
  },
  {
   "cell_type": "code",
   "execution_count": null,
   "id": "fa4eecd3",
   "metadata": {},
   "outputs": [],
   "source": [
    "# You can test the agent with the following scenarios:\n",
    "\n",
    "#Schedule a task called 'Database Migration' for 2024-02-15 with High priority\n",
    "#Allocate team member 'Sarah Johnson' to task TSK-1234 with skills 'Python, SQL, Database Administration\n",
    "#I need to schedule a 'Code Review' task for next Friday and allocate 'Mike Chen' who has 'Code Review, Python, Testing' skills"
   ]
  },
  {
   "cell_type": "markdown",
   "id": "6284f26d",
   "metadata": {},
   "source": "---\n\n## 📚 Key Concepts Explained\n\n### 1. **AI Agents vs Traditional Programming**\n- **Traditional**: You write explicit rules for every scenario\n- **AI Agents**: You provide tools and instructions, the agent figures out how to use them\n\n### 2. **ReAct Pattern (Reasoning + Acting)**\nBoth frameworks implement the ReAct pattern:\n1. **Observe**: Agent receives user input\n2. **Think**: Agent reasons about what to do\n3. **Act**: Agent uses tools to perform actions\n4. **Reflect**: Agent observes results and decides next steps\n\n### 3. **Tool Integration**\nTools are Python functions that agents can call:\n- **Function Signature**: Defines parameters and return types\n- **Docstrings**: Help the agent understand when to use each tool\n- **Tool Wrapping**: Converts regular functions to agent-compatible tools\n\n### 4. **Memory and State Management**\n- **LangGraph**: Uses `MemorySaver` for conversation history\n- **Google ADK**: Uses `InMemorySessionService` for session management\n- Both maintain context across multiple interactions\n\n### 5. **Prompt Engineering**\nThe agent instructions are crucial:\n- **Role Definition**: What the agent is supposed to be\n- **Capabilities**: What tools it can use\n- **Guidelines**: How it should behave\n- **Response Format**: How it should structure its responses\n\n### 6. **Using Free Models**\n\n#### **Ollama (Local LLM)**\n- **Pros**: \n  - Completely free, no API limits\n  - Data stays on your machine (privacy)\n  - No internet required after download\n- **Cons**: \n  - Requires local resources (RAM/CPU)\n  - Initial model download needed\n  - May be slower than cloud APIs\n\n#### **Hugging Face (Cloud API)**\n- **Pros**: \n  - Free tier available\n  - Access to many models\n  - No local resources needed\n- **Cons**: \n  - API rate limits\n  - Requires internet connection\n  - Need to create account for API token\n\n### 7. **Security Best Practices**\n- **Never hardcode API keys** in your code\n- **Use .env files** for local development\n- **Add .env to .gitignore** to prevent accidental commits\n- **Use environment variables** in production\n\n### 8. **Framework Comparison**\n\n| Aspect | LangGraph | Google ADK |\n|--------|-----------|------------|\n| **Complexity** | Simpler setup | More configuration |\n| **Flexibility** | Good for standard agents | Better for complex workflows |\n| **Tool Integration** | @tool decorator | FunctionTool wrapper |\n| **Model Support** | Wide range via LangChain | LiteLLM integration |\n| **Best For** | Quick prototypes | Production systems |\n\n### 9. **Common Patterns**\n- **Tool Chaining**: Agent uses multiple tools in sequence\n- **Error Handling**: Agent recovers from tool failures\n- **Context Awareness**: Agent remembers previous interactions\n- **Dynamic Planning**: Agent adapts strategy based on results\n\n### 10. **Next Steps**\nTo extend this project:\n1. **Add more tools**: Database queries, API calls, file operations\n2. **Implement validation**: Check inputs before tool execution\n3. **Add logging**: Track agent decisions and tool usage\n4. **Create a UI**: Build a web interface for the agent\n5. **Deploy to cloud**: Use services like Hugging Face Spaces\n\n---\n\n## 🎯 Summary\n\nYou've successfully implemented a Project Management Assistant using:\n1. **Free LLM models** (Ollama local + Hugging Face cloud)\n2. **Secure API key management** (.env file + .gitignore)\n3. **Two different frameworks** (LangGraph and Google ADK)\n4. **Custom tools** for task scheduling and team allocation\n5. **Professional agent behavior** through prompt engineering\n\nThe agent can now:\n- Schedule tasks with deadlines and priorities\n- Allocate team members based on skills\n- Handle complex multi-step requests\n- Maintain conversation context\n- Provide professional project management assistance\n\nRemember: The key to good AI agents is clear instructions, well-defined tools, and iterative testing!\n\n---\n\n**Congratulations on completing the Week 1 Homework! 🎉**"
  }
 ],
 "metadata": {
  "kernelspec": {
   "display_name": "Python 3",
   "language": "python",
   "name": "python3"
  },
  "language_info": {
   "codemirror_mode": {
    "name": "ipython",
    "version": 3
   },
   "file_extension": ".py",
   "mimetype": "text/x-python",
   "name": "python",
   "nbconvert_exporter": "python",
   "pygments_lexer": "ipython3",
   "version": "3.12.0"
  }
 },
 "nbformat": 4,
 "nbformat_minor": 5
}