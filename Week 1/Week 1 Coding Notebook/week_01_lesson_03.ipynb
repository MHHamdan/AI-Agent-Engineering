{
 "cells": [
  {
   "cell_type": "markdown",
   "metadata": {},
   "source": [
    "# Week 01 - Lesson 03 - Foundations of AI Agent Development\n",
    "\n",
    "This notebook provides hands-on demonstrations of AI agent concepts introduced in `Week 01`. \n",
    "\n",
    "### Learning Objectives\n",
    "By the end of this notebook, you will:\n",
    "1. Understand the fundamental components of AI agents\n",
    "2. Create your first functional AI agent\n",
    "3. Implement memory and structured outputs\n",
    "4. Understand practical implications\n",
    "\n",
    "## Requirements\n",
    "\n",
    "- **Python** installed (https://www.python.org/downloads/)\n",
    "- **Jupyter Notebook** (already installed in this environment)\n",
    "- **OpenAI API Key** (https://platform.openai.com/api-keys)\n",
    "- The following Python libraries:\n",
    "  - `openai` (for LLM access)\n",
    "  - `langchain` (for agent and tool orchestration)\n",
    "  - `langgraph` (for agent workflow management)"
   ]
  },
  {
   "cell_type": "markdown",
   "metadata": {},
   "source": [
    "## 1. Environment Setup and Dependencies\n",
    "\n",
    "First, let's ensure we have all necessary dependencies installed and configured."
   ]
  },
  {
   "cell_type": "code",
   "execution_count": null,
   "metadata": {},
   "outputs": [],
   "source": [
    "# Install required dependencies\n",
    "%pip install -U --quiet langgraph langchain pydantic langchain-openai"
   ]
  },
  {
   "cell_type": "code",
   "execution_count": null,
   "metadata": {},
   "outputs": [],
   "source": [
    "# Your OpenAI API Key here\n",
    "OPENAI_API_KEY = \"sk-your-openai-api-key-here\""
   ]
  },
  {
   "cell_type": "markdown",
   "metadata": {},
   "source": [
    "## Lesson: From Pre-built to Custom\n",
    "\n",
    "### Why We Start with Pre-built Libraries\n",
    "\n",
    "In this lesson, we'll begin our AI agent journey using LangChain's **`create_react_agent`** function from the [Langgraph agents library](https://langchain-ai.github.io/langgraph/reference/agents/#langgraph.prebuilt.chat_agent_executor.AgentState). This approach serves several important purposes:\n",
    "\n",
    "\n",
    "<div style=\"width:70%;overflow:hidden;\">\n",
    "  <img src=\"https://cdn-blog.scalablepath.com/uploads/2025/06/header-image-langgraph.png\" \n",
    "       style=\"width:100%;display:block;object-fit:cover;object-position:top;aspect-ratio:1200/600;max-height:55%;\">\n",
    "</div>\n",
    "\n",
    "#### **Learning Benefits**\n",
    "- **Faster Understanding**: Pre-built agents handle complex orchestration automatically\n",
    "- **Focus on Concepts**: We can concentrate on understanding agent behavior rather than implementation details\n",
    "- **Immediate Results**: See working agents in action without building infrastructure from scratch\n",
    "\n",
    "#### **What `create_react_agent` Provides**\n",
    "The `create_react_agent` function implements the **ReAct (Reasoning + Acting)** paradigm, which:\n",
    "- Combines logical reasoning with tool execution\n",
    "- Manages the thought process automatically\n",
    "- Handles tool selection and parameter passing\n",
    "- Maintains conversation context and memory\n",
    "\n",
    "---\n",
    "\n",
    "### **Progressive Learning Path**\n",
    "\n",
    "#### **Phase 1: Understanding (Current Lesson)**\n",
    "- Use `create_react_agent` to grasp fundamental concepts\n",
    "- Learn how agents think, reason, and act\n",
    "- Understand tool integration and memory management\n",
    "\n",
    "#### **Phase 2: Customization (Future Lessons)**\n",
    "- Build agents from scratch without pre-built agent libraries\n",
    "- Design custom workflows and decision trees (next lesson)\n",
    "- Implement specialized reasoning patterns\n",
    "- Create orchestration systems\n",
    "\n",
    "#### **Phase 3: Advanced Implementation**\n",
    "- Develop multi-agent systems\n",
    "- Create custom state management\n",
    "- Implement advanced memory strategies\n",
    "- Build production-ready agent architectures\n",
    "\n",
    "---\n",
    "\n",
    "### **Key Takeaway**\n",
    "\n",
    "Starting with pre-built libraries like `create_react_agent` is not a limitation—it's a strategic learning approach. By understanding how these agents work internally, you'll be better equipped to build custom solutions that perfectly fit your enterprise requirements."
   ]
  },
  {
   "cell_type": "code",
   "execution_count": 3,
   "metadata": {},
   "outputs": [
    {
     "name": "stdout",
     "output_type": "stream",
     "text": [
      "✅ All dependencies imported successfully!\n"
     ]
    }
   ],
   "source": [
    "# Import necessary libraries\n",
    "from pydantic import BaseModel\n",
    "\n",
    "# LangGraph and LangChain imports\n",
    "from langgraph.prebuilt import create_react_agent\n",
    "from langchain.chat_models import init_chat_model\n",
    "from langgraph.checkpoint.memory import InMemorySaver\n",
    "\n",
    "print(\"✅ All dependencies imported successfully!\")"
   ]
  },
  {
   "cell_type": "markdown",
   "metadata": {},
   "source": [
    "## 2. Understanding AI Agent Architecture\n",
    "\n",
    "Before diving into code, let's understand the fundamental architecture of AI agents:\n",
    "\n",
    "### Core Components\n",
    "\n",
    "1. **Language Model (LLM)**: The \"brain\" that processes natural language and makes decisions\n",
    "2. **Tools**: External functions the agent can call to perform actions\n",
    "3. **Memory**: Storage for conversation history and context\n",
    "4. **Prompt**: Instructions that define the agent's behavior and capabilities\n",
    "5. **Workflow Engine**: Manages the flow between thinking, tool usage, and responses"
   ]
  },
  {
   "cell_type": "markdown",
   "metadata": {},
   "source": [
    "## 3. Creating Your First AI Agent\n",
    "\n",
    "Let's start with a simple example that demonstrates the basic agent creation process."
   ]
  },
  {
   "cell_type": "code",
   "execution_count": 4,
   "metadata": {},
   "outputs": [],
   "source": [
    "# Now we can initialize the LLM\n",
    "llm = init_chat_model(\n",
    "    \"openai:gpt-4o-mini\",\n",
    "    api_key=OPENAI_API_KEY,\n",
    ")"
   ]
  },
  {
   "cell_type": "markdown",
   "metadata": {},
   "source": [
    "## Before we begin, let's try to understand a very important concept, superficially:\n",
    "\n",
    "### What are Tools?\n",
    "\n",
    "**Tools** are the fundamental components that transform a Language Model from a conversational interface into a true **AI Agent**. Think of tools as the \"hands\" of your agent - they allow the agent to interact with external systems, perform actions, and access real-world data.\n",
    "\n",
    "### Key Characteristics of Tools\n",
    "\n",
    "- Tools are **functions** that the agent can call\n",
    "- The agent decides **when** and **how** to use these tools based on user requests\n",
    "- Tools connect your agent to databases, APIs, file systems, and other services\n",
    "- They enable the agent to perform actions beyond text generation\n",
    "- The agent **automatically determines** which tools to use\n",
    "\n",
    "### **Important Note for This Lesson**\n",
    "\n",
    "**We will not dive deep into tool implementation details or function calling mechanisms in this lesson.** Our focus is on understanding the **conceptual role** of tools in agent architecture.\n",
    "\n",
    "**In Week 02**, we will explore topics such as detailed tool creation and configuration, advanced function calling patterns, custom tool development for enterprise scenarios, and the orchestration and management of workflows involving multiple tools.\n",
    "\n",
    "For now, simply understand that tools are functions which agents can call. They enable interaction with external systems, transforming LLMs into actionable AI agents. This capability is essential for building enterprise-grade AI solutions.\n",
    "\n",
    "*Let's see tools in action with our first practical examples...*\n"
   ]
  },
  {
   "cell_type": "code",
   "execution_count": 5,
   "metadata": {},
   "outputs": [
    {
     "name": "stdout",
     "output_type": "stream",
     "text": [
      "✅ Tool functions defined successfully!\n"
     ]
    }
   ],
   "source": [
    "# Define a simple tool function\n",
    "# In real-world applications, these tool functions would connect to external APIs or databases.\n",
    "def get_weather(city: str) -> str:\n",
    "    \"\"\"Get weather information for a given city.\n",
    "    \n",
    "    This is a mock implementation. In production, this would call a weather API.\n",
    "    \"\"\"\n",
    "    return f\"The weather in {city} is currently sunny with a temperature of 22°C.\"\n",
    "\n",
    "def get_stock_price(symbol: str) -> str:\n",
    "    \"\"\"Get current stock price for a given symbol.\n",
    "    \n",
    "    This is a mock implementation. In production, this would call a financial API.\n",
    "    \"\"\"\n",
    "    return f\"The current stock price of {symbol} is $150.00.\"\n",
    "\n",
    "print(\"✅ Tool functions defined successfully!\")"
   ]
  },
  {
   "cell_type": "code",
   "execution_count": 6,
   "metadata": {},
   "outputs": [
    {
     "name": "stdout",
     "output_type": "stream",
     "text": [
      "✅ Agent created successfully!\n",
      "Agent has 2 tools available\n"
     ]
    }
   ],
   "source": [
    "# Create your first agent\n",
    "# This demonstrates the basic pattern for agent creation\n",
    "agent = create_react_agent(\n",
    "    model=llm,  # The LLM to use\n",
    "    tools=[get_weather, get_stock_price],         # Available tools\n",
    "    prompt=\"You are a helpful business assistant that can provide weather and stock information.\"\n",
    ")\n",
    "\n",
    "print(\"✅ Agent created successfully!\")\n",
    "print(f\"Agent has {len([get_weather, get_stock_price])} tools available\")"
   ]
  },
  {
   "cell_type": "code",
   "execution_count": 7,
   "metadata": {},
   "outputs": [
    {
     "name": "stdout",
     "output_type": "stream",
     "text": [
      "🤖 Agent Response:\n",
      "The weather in San Francisco is currently sunny with a temperature of 22°C.\n"
     ]
    }
   ],
   "source": [
    "# Test the agent with a simple query\n",
    "response = agent.invoke(\n",
    "    {\"messages\": [{\"role\": \"user\", \"content\": \"What's the weather in San Francisco?\"}]}\n",
    ")\n",
    "\n",
    "print(\"🤖 Agent Response:\")\n",
    "print(response[\"messages\"][-1].content)"
   ]
  },
  {
   "cell_type": "markdown",
   "metadata": {},
   "source": [
    "## 4. Agent with more Sophisticated Configuration\n",
    "\n",
    "Now let's explore more advanced configurations:"
   ]
  },
  {
   "cell_type": "code",
   "execution_count": 8,
   "metadata": {},
   "outputs": [
    {
     "name": "stdout",
     "output_type": "stream",
     "text": [
      "✅ Sophisticated agent configured successfully!\n"
     ]
    }
   ],
   "source": [
    "# Configure an LLM with parameters\n",
    "# This demonstrates how to fine-tune the model behavior\n",
    "model = init_chat_model(\n",
    "    \"openai:gpt-4o-mini\",\n",
    "    api_key=OPENAI_API_KEY,\n",
    "    temperature=0.1,  # Low temperature for consistent, predictable responses\n",
    "    max_tokens=1000   # Limit response length for cost control\n",
    ")\n",
    "\n",
    "# Create a more sophisticated agent\n",
    "# Compare to the previous agent, a more well defined prompt leads to better results and more consistent responses that can call tools more accurately\n",
    "sophisticated_agent = create_react_agent(\n",
    "    model=model,\n",
    "    tools=[get_weather, get_stock_price],\n",
    "    prompt=\"\"\"\n",
    "    You are an enterprise business assistant with the following responsibilities:\n",
    "    \n",
    "    1. Provide accurate and concise information\n",
    "    2. Always cite your sources when using tools\n",
    "    3. Maintain professional communication\n",
    "    4. Prioritize data accuracy over speculation\n",
    "    \n",
    "    Available tools:\n",
    "    - get_weather: Provides weather information for cities\n",
    "    - get_stock_price: Provides current stock prices\n",
    "    \"\"\"\n",
    ")\n",
    "\n",
    "print(\"✅ Sophisticated agent configured successfully!\")"
   ]
  },
  {
   "cell_type": "code",
   "execution_count": 9,
   "metadata": {},
   "outputs": [
    {
     "name": "stdout",
     "output_type": "stream",
     "text": [
      "🏢 Sophisticated Agent Response:\n",
      "The current weather in New York is sunny with a temperature of 22°C. Additionally, the current stock price of Apple Inc. (AAPL) is $150.00.\n"
     ]
    }
   ],
   "source": [
    "# Test the sophisticated agent\n",
    "response = sophisticated_agent.invoke(\n",
    "    {\"messages\": [{\"role\": \"user\", \"content\": \"Can you check the weather in New York and the stock price of AAPL?\"}]}\n",
    ")\n",
    "\n",
    "print(\"🏢 Sophisticated Agent Response:\")\n",
    "print(response[\"messages\"][-1].content)"
   ]
  },
  {
   "cell_type": "markdown",
   "metadata": {},
   "source": [
    "## 5. Implementing Memory and State Management\n",
    "\n",
    "Memory is crucial for applications where context must be maintained across multiple interactions."
   ]
  },
  {
   "cell_type": "code",
   "execution_count": 10,
   "metadata": {},
   "outputs": [
    {
     "name": "stdout",
     "output_type": "stream",
     "text": [
      "✅ Agent with memory configured successfully!\n"
     ]
    }
   ],
   "source": [
    "# Set up memory management for the agent\n",
    "# This enables multi-turn conversations and context preservation\n",
    "checkpointer = InMemorySaver()\n",
    "\n",
    "agent_with_memory = create_react_agent(\n",
    "    model=model,\n",
    "    tools=[get_weather, get_stock_price],\n",
    "    checkpointer=checkpointer,  # Enable memory\n",
    "    prompt=\"You are a helpful business assistant. Remember previous conversations and build on them.\"\n",
    ")\n",
    "\n",
    "print(\"✅ Agent with memory configured successfully!\")"
   ]
  },
  {
   "cell_type": "code",
   "execution_count": 11,
   "metadata": {},
   "outputs": [
    {
     "name": "stdout",
     "output_type": "stream",
     "text": [
      "🔄 First Interaction:\n",
      "The weather in London is currently sunny with a temperature of 22°C.\n",
      "\n",
      "==================================================\n",
      "\n",
      "🔄 Second Interaction (with memory):\n",
      "The weather in Paris is also sunny with a temperature of 22°C, which is the same as in London.\n"
     ]
    }
   ],
   "source": [
    "# Demonstrate multi-turn conversation with memory\n",
    "config = {\"configurable\": {\"thread_id\": \"session_001\"}}\n",
    "\n",
    "# First interaction\n",
    "print(\"🔄 First Interaction:\")\n",
    "response1 = agent_with_memory.invoke(\n",
    "    {\"messages\": [{\"role\": \"user\", \"content\": \"What's the weather in London?\"}]},\n",
    "    config\n",
    ")\n",
    "print(response1[\"messages\"][-1].content)\n",
    "print(\"\\n\" + \"=\"*50 + \"\\n\")\n",
    "\n",
    "# Second interaction (agent remembers the context)\n",
    "print(\"🔄 Second Interaction (with memory):\")\n",
    "response2 = agent_with_memory.invoke(\n",
    "    {\"messages\": [{\"role\": \"user\", \"content\": \"How does that compare to the weather in Paris?\"}]},\n",
    "    config\n",
    ")\n",
    "print(response2[\"messages\"][-1].content)"
   ]
  },
  {
   "cell_type": "markdown",
   "metadata": {},
   "source": [
    "## 6. Structured Outputs\n",
    "\n",
    "Structured outputs are essential for systems that need to integrate with existing databases, APIs, and workflows."
   ]
  },
  {
   "cell_type": "code",
   "execution_count": 12,
   "metadata": {},
   "outputs": [
    {
     "name": "stdout",
     "output_type": "stream",
     "text": [
      "✅ Structured output schemas defined!\n"
     ]
    }
   ],
   "source": [
    "# Define structured output schemas using Pydantic\n",
    "# This ensures consistent, predictable data formats\n",
    "class WeatherReport(BaseModel):\n",
    "    city: str\n",
    "    temperature: str\n",
    "    conditions: str\n",
    "    timestamp: str\n",
    "\n",
    "class StockReport(BaseModel):\n",
    "    symbol: str\n",
    "    price: str\n",
    "    currency: str\n",
    "    timestamp: str\n",
    "\n",
    "class BusinessReport(BaseModel):\n",
    "    weather: WeatherReport\n",
    "    stock: StockReport\n",
    "    summary: str\n",
    "\n",
    "print(\"✅ Structured output schemas defined!\")"
   ]
  },
  {
   "cell_type": "code",
   "execution_count": 13,
   "metadata": {},
   "outputs": [
    {
     "name": "stdout",
     "output_type": "stream",
     "text": [
      "✅ Structured output agent created!\n"
     ]
    }
   ],
   "source": [
    "# Create an agent with structured outputs\n",
    "structured_agent = create_react_agent(\n",
    "    model=model,\n",
    "    tools=[get_weather, get_stock_price],\n",
    "    response_format=BusinessReport,  # Enforce structured output\n",
    "    prompt=\"\"\"\n",
    "    You are a business intelligence agent. When asked about weather and stocks,\n",
    "    provide structured reports that can be easily integrated into business systems.\n",
    "    \n",
    "    Always format your responses according to the BusinessReport schema.\n",
    "    \"\"\"\n",
    ")\n",
    "\n",
    "print(\"✅ Structured output agent created!\")"
   ]
  },
  {
   "cell_type": "code",
   "execution_count": 14,
   "metadata": {},
   "outputs": [
    {
     "name": "stdout",
     "output_type": "stream",
     "text": [
      "📊 Structured Business Report:\n",
      "Weather: Tokyo - 22°C, Sunny\n",
      "Stock: TSLA - $150.00 USD\n",
      "Summary: Current weather in Tokyo is sunny with a temperature of 22°C. TSLA stock is currently priced at $150.00.\n",
      "\n",
      "🔍 Raw Structured Data (for system integration):\n",
      "{'weather': {'city': 'Tokyo', 'temperature': '22°C', 'conditions': 'Sunny', 'timestamp': '2023-10-10T12:00:00Z'}, 'stock': {'symbol': 'TSLA', 'price': '$150.00', 'currency': 'USD', 'timestamp': '2023-10-10T12:00:00Z'}, 'summary': 'Current weather in Tokyo is sunny with a temperature of 22°C. TSLA stock is currently priced at $150.00.'}\n"
     ]
    }
   ],
   "source": [
    "# Test structured output\n",
    "response = structured_agent.invoke(\n",
    "    {\"messages\": [{\"role\": \"user\", \"content\": \"Provide a business report for Tokyo weather and TSLA stock price\"}]}\n",
    ")\n",
    "\n",
    "print(\"📊 Structured Business Report:\")\n",
    "structured_data = response[\"structured_response\"]\n",
    "print(f\"Weather: {structured_data.weather.city} - {structured_data.weather.temperature}, {structured_data.weather.conditions}\")\n",
    "print(f\"Stock: {structured_data.stock.symbol} - {structured_data.stock.price} {structured_data.stock.currency}\")\n",
    "print(f\"Summary: {structured_data.summary}\")\n",
    "\n",
    "print(\"\\n🔍 Raw Structured Data (for system integration):\")\n",
    "print(structured_data.model_dump())"
   ]
  },
  {
   "cell_type": "markdown",
   "metadata": {},
   "source": [
    "## 7. Integration"
   ]
  },
  {
   "cell_type": "code",
   "execution_count": 15,
   "metadata": {},
   "outputs": [
    {
     "name": "stdout",
     "output_type": "stream",
     "text": [
      "✅ Tools defined!\n"
     ]
    }
   ],
   "source": [
    "# Example: tool integration\n",
    "# In real scenarios, these would be actual API calls (this is a mock implementation)\n",
    "def get_customer_data(customer_id: str) -> str:\n",
    "    \"\"\"Retrieve customer information from CRM system.\"\"\"\n",
    "    return f\"Customer {customer_id}: Premium tier, last purchase: 2024-01-15, total spend: $2,500\"\n",
    "\n",
    "def get_sales_forecast(region: str) -> str:\n",
    "    \"\"\"Get sales forecast from business intelligence system.\"\"\"\n",
    "    return f\"Sales forecast for {region}: Q1 2024 - $1.2M, Q2 2024 - $1.5M\"\n",
    "\n",
    "def update_crm_record(customer_id: str, action: str) -> str:\n",
    "    \"\"\"Update customer record in CRM system.\"\"\"\n",
    "    return f\"Updated CRM record for customer {customer_id} with action: {action}\"\n",
    "\n",
    "print(\"✅ Tools defined!\")"
   ]
  },
  {
   "cell_type": "code",
   "execution_count": 16,
   "metadata": {},
   "outputs": [
    {
     "name": "stdout",
     "output_type": "stream",
     "text": [
      "✅ Business agent created!\n"
     ]
    }
   ],
   "source": [
    "# Create an business agent\n",
    "business_agent = create_react_agent(\n",
    "    model=model,\n",
    "    tools=[get_customer_data, get_sales_forecast, update_crm_record],\n",
    "    checkpointer=InMemorySaver(),\n",
    "    prompt=\"\"\"\n",
    "    You are an enterprise business operations agent with access to:\n",
    "    - Customer relationship management (CRM) system\n",
    "    - Sales forecasting and business intelligence\n",
    "    - Customer data management capabilities\n",
    "    \n",
    "    Your role is to assist with business operations, customer service, and data analysis.\n",
    "    Always maintain data privacy and follow enterprise security protocols.\n",
    "    \"\"\"\n",
    ")\n",
    "\n",
    "print(\"✅ Business agent created!\")"
   ]
  },
  {
   "cell_type": "code",
   "execution_count": 17,
   "metadata": {},
   "outputs": [
    {
     "name": "stdout",
     "output_type": "stream",
     "text": [
      "🏢 Workflow Example:\n",
      "============================================================\n",
      "\n",
      "📋 Step 1: Can you get information about customer CUST-001?\n",
      "🤖 Response: Customer CUST-001 is a premium tier customer. Their last purchase was on January 15, 2024, and their total spend is $2,500.\n",
      "----------------------------------------\n",
      "\n",
      "📋 Step 2: What's the sales forecast for the North region?\n",
      "🤖 Response: The sales forecast for the North region is as follows:\n",
      "- Q1 2024: $1.2 million\n",
      "- Q2 2024: $1.5 million\n",
      "----------------------------------------\n",
      "\n",
      "📋 Step 3: Based on this information, update the CRM record for CUST-001 with a follow-up action\n",
      "🤖 Response: The CRM record for customer CUST-001 has been updated with the follow-up action: \"Follow-up on recent purchase and discuss potential upsell opportunities.\"\n",
      "----------------------------------------\n"
     ]
    }
   ],
   "source": [
    "# Demonstrate workflow\n",
    "config = {\"configurable\": {\"thread_id\": \"business_001\"}}\n",
    "\n",
    "print(\"🏢 Workflow Example:\")\n",
    "print(\"=\" * 60)\n",
    "\n",
    "# Multi-step process\n",
    "steps = [\n",
    "    \"Can you get information about customer CUST-001?\",\n",
    "    \"What's the sales forecast for the North region?\",\n",
    "    \"Based on this information, update the CRM record for CUST-001 with a follow-up action\"\n",
    "]\n",
    "\n",
    "# This is a mock implementation of a multi-step process\n",
    "# In real applications, each step would be a separate agent invocation\n",
    "for i, step in enumerate(steps, 1):\n",
    "    print(f\"\\n📋 Step {i}: {step}\")\n",
    "    response = business_agent.invoke(\n",
    "        {\"messages\": [{\"role\": \"user\", \"content\": step}]},\n",
    "        config\n",
    "    )\n",
    "    print(f\"🤖 Response: {response['messages'][-1].content}\")\n",
    "    print(\"-\" * 40)"
   ]
  },
  {
   "cell_type": "markdown",
   "metadata": {},
   "source": [
    "## 8. Key Takeaways\n",
    "\n",
    "### What We've Accomplished\n",
    "\n",
    "1. **Basic Agent Creation**: Established the fundamental pattern for creating AI agents\n",
    "2. **Configuration**: Demonstrated how to configure agents for basic business use\n",
    "3. **Memory Management**: Implemented context preservation across conversations\n",
    "4. **Structured Outputs**: Created predictable data formats for system integration\n",
    "5. **Integration**: Showed how agents can interact with business systems\n",
    "\n",
    "### Enterprise Architecture Considerations\n",
    "\n",
    "#### Scalability\n",
    "- Agents can be deployed as microservices\n",
    "- Memory can be distributed across multiple instances\n",
    "- Tools can be scaled independently\n",
    "\n",
    "#### Security\n",
    "- API keys must be managed securely\n",
    "- Tool access should be restricted based on user permissions\n",
    "- Memory storage should comply with data privacy regulations\n",
    "\n",
    "#### Integration\n",
    "- Agents can replace or augment traditional business process automation\n",
    "- Structured outputs enable seamless integration with existing systems\n",
    "- Memory enables complex, multi-step business workflows\n",
    "\n",
    "#### Cost Management\n",
    "- Token usage should be monitored and optimized\n",
    "- Response length limits help control costs\n",
    "- Tool usage can be tracked for billing purposes\n",
    "\n",
    "### Common Use Cases\n",
    "\n",
    "- **Customer Service**: Automated support with human escalation\n",
    "- **Sales Operations**: Lead qualification and follow-up automation\n",
    "- **Data Analysis**: Automated reporting and insights generation\n",
    "- **Process Automation**: Complex workflow orchestration\n",
    "- **Knowledge Management**: Intelligent document search and summarization"
   ]
  },
  {
   "cell_type": "markdown",
   "metadata": {},
   "source": [
    "## 9. Exercise: Build Your First Agent\n",
    "\n",
    "Now it's your turn to create an agent for a specific business scenario. Choose one of the following exercises:"
   ]
  },
  {
   "cell_type": "code",
   "execution_count": 18,
   "metadata": {},
   "outputs": [
    {
     "name": "stdout",
     "output_type": "stream",
     "text": [
      "🎯 Exercise 1: Customer Service Agent\n",
      "Create an agent that can:\n",
      "- Check order status\n",
      "- Create support tickets\n",
      "- Provide helpful customer service responses\n"
     ]
    }
   ],
   "source": [
    "# Exercise 1: Customer Service Agent\n",
    "# Create an agent that can handle customer inquiries and update customer records\n",
    "\n",
    "def get_order_status(order_id: str) -> str:\n",
    "    \"\"\"Get the status of a customer order.\"\"\"\n",
    "    return f\"Order {order_id}: Shipped on 2024-01-20, expected delivery 2024-01-25\"\n",
    "\n",
    "def create_support_ticket(customer_id: str, issue: str) -> str:\n",
    "    \"\"\"Create a support ticket for a customer issue.\"\"\"\n",
    "    return f\"Support ticket created for customer {customer_id}: {issue}\"\n",
    "\n",
    "# TODO: Create your customer service agent here\n",
    "# Hint: Use create_react_agent with the tools above\n",
    "\n",
    "print(\"🎯 Exercise 1: Customer Service Agent\")\n",
    "print(\"Create an agent that can:\")\n",
    "print(\"- Check order status\")\n",
    "print(\"- Create support tickets\")\n",
    "print(\"- Provide helpful customer service responses\")"
   ]
  },
  {
   "cell_type": "code",
   "execution_count": 19,
   "metadata": {},
   "outputs": [
    {
     "name": "stdout",
     "output_type": "stream",
     "text": [
      "📊 Exercise 2: Data Analysis Agent\n",
      "Create an agent that can:\n",
      "- Retrieve sales data\n",
      "- Analyze customer satisfaction\n",
      "- Generate structured business reports\n"
     ]
    }
   ],
   "source": [
    "# Exercise 2: Data Analysis Agent\n",
    "# Create an agent that can analyze business data and generate reports\n",
    "\n",
    "def get_sales_data(period: str) -> str:\n",
    "    \"\"\"Get sales data for a specific period.\"\"\"\n",
    "    return f\"Sales data for {period}: Revenue $500K, Units sold 1,250, Growth 15%\"\n",
    "\n",
    "def get_customer_satisfaction(region: str) -> str:\n",
    "    \"\"\"Get customer satisfaction scores for a region.\"\"\"\n",
    "    return f\"Customer satisfaction for {region}: 4.2/5.0, Response rate 85%\"\n",
    "\n",
    "# TODO: Create your data analysis agent here\n",
    "# Hint: Use structured outputs for consistent report formats\n",
    "\n",
    "print(\"📊 Exercise 2: Data Analysis Agent\")\n",
    "print(\"Create an agent that can:\")\n",
    "print(\"- Retrieve sales data\")\n",
    "print(\"- Analyze customer satisfaction\")\n",
    "print(\"- Generate structured business reports\")"
   ]
  },
  {
   "cell_type": "markdown",
   "metadata": {},
   "source": [
    "## 10. Conclusion\n",
    "\n",
    "Congratulations! You've successfully completed the foundational week of AI agent development. You now understand:\n",
    "\n",
    "### Technical Competencies\n",
    "- How to create and configure basic AI agents\n",
    "- How to implement memory and state management\n",
    "- How to structure outputs\n",
    "- How to integrate agents with business systems\n",
    "\n",
    "### Insights\n",
    "- The architectural implications of AI agents\n",
    "- How agents can transform business processes\n",
    "- Common use cases and implementation patterns\n",
    "\n",
    "---\n",
    "\n",
    "Happy coding! 🚀"
   ]
  }
 ],
 "metadata": {
  "kernelspec": {
   "display_name": "venv",
   "language": "python",
   "name": "python3"
  },
  "language_info": {
   "codemirror_mode": {
    "name": "ipython",
    "version": 3
   },
   "file_extension": ".py",
   "mimetype": "text/x-python",
   "name": "python",
   "nbconvert_exporter": "python",
   "pygments_lexer": "ipython3",
   "version": "3.12.0"
  }
 },
 "nbformat": 4,
 "nbformat_minor": 4
}
