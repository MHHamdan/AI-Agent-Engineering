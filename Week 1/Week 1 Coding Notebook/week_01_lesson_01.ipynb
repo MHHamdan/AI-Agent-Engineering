{
 "cells": [
  {
   "cell_type": "markdown",
   "metadata": {},
   "source": [
    "# Week 01 - Lesson 01 - Chat Models\n",
    "\n",
    "## Overview\n",
    "\n",
    "This notebook provides foundational knowledge about Chat Models in LangChain, essential for understanding how AI agents communicate and process information. This lesson establishes the building blocks that will be used throughout the course.\n",
    "\n",
    "<img src=\"https://theaiinsider.tech/wp-content/uploads/2025/07/Screenshot-3112.png\" width=\"500\"/>\n",
    "\n",
    "### Learning Objectives\n",
    "By the end of this notebook, you will:\n",
    "1. Understand the fundamental concepts of Chat Models in LangChain\n",
    "2. Learn how to make API calls to various LLM providers\n",
    "3. Master message handling and conversation management\n",
    "4. Implement prompt templates for consistent interactions\n",
    "\n",
    "## Requirements\n",
    "\n",
    "- **Python** installed (https://www.python.org/downloads/)\n",
    "- **Jupyter Notebook** (already installed in this environment)\n",
    "- **OpenAI API Key** (https://platform.openai.com/api-keys)\n",
    "- The following Python libraries:\n",
    "  - `langchain` (for chat model orchestration)\n",
    "  - `langchain-openai` (for OpenAI integration)\n",
    "  - `pydantic` (for data validation)\n",
    "\n",
    "## Context\n",
    "\n",
    "Chat Models represent the foundation of modern AI systems. They serve as:\n",
    "\n",
    "- **Communication Layer**: The interface between human users and AI systems\n",
    "- **Processing Engine**: The core that transforms natural language into structured responses\n",
    "- **Integration Point**: The bridge that connects various business systems and data sources\n",
    "\n",
    "Understanding how to work with Chat Models is crucial for:\n",
    "- Building customer service chatbots\n",
    "- Creating intelligent document processors\n",
    "- Developing automated business intelligence systems\n",
    "- Implementing conversational AI interfaces"
   ]
  },
  {
   "cell_type": "markdown",
   "metadata": {},
   "source": [
    "## 1. Environment Setup and Dependencies\n",
    "\n",
    "First, let's ensure we have all necessary dependencies installed and configured."
   ]
  },
  {
   "cell_type": "code",
   "execution_count": null,
   "metadata": {},
   "outputs": [],
   "source": [
    "# Install required dependencies\n",
    "%pip install -U --quiet langchain langchain-openai pydantic"
   ]
  },
  {
   "cell_type": "code",
   "execution_count": null,
   "metadata": {},
   "outputs": [
    {
     "name": "stdout",
     "output_type": "stream",
     "text": [
      "✅ All dependencies imported successfully!\n"
     ]
    }
   ],
   "source": [
    "# Import necessary libraries\n",
    "# LangChain imports\n",
    "from langchain_openai import ChatOpenAI\n",
    "from langchain.schema import HumanMessage, AIMessage, SystemMessage\n",
    "from langchain.prompts import ChatPromptTemplate, SystemMessagePromptTemplate, HumanMessagePromptTemplate\n",
    "from langchain.schema.output_parser import StrOutputParser\n",
    "\n",
    "print(\"✅ All dependencies imported successfully!\")"
   ]
  },
  {
   "cell_type": "markdown",
   "metadata": {},
   "source": [
    "## 2. Understanding Chat Models in LangChain\n",
    "\n",
    "Before diving into code, let's understand the fundamental concepts of Chat Models:\n",
    "\n",
    "### Core Concepts\n",
    "\n",
    "1. **Chat Models**: Specialized language models designed for conversational interactions\n",
    "2. **Messages**: Structured data representing different types of communication\n",
    "3. **Prompts**: Instructions that guide the model's behavior and responses\n",
    "4. **Chains**: Orchestrated sequences of model calls and processing steps\n",
    "5. **Output Parsers**: Transform model responses into structured formats"
   ]
  },
  {
   "cell_type": "markdown",
   "metadata": {},
   "source": [
    "## 3. Basic Chat Model Implementation\n",
    "\n",
    "Let's start with the fundamental pattern of working with Chat Models in LangChain."
   ]
  },
  {
   "cell_type": "code",
   "execution_count": null,
   "metadata": {},
   "outputs": [],
   "source": [
    "# Your OpenAI API Key here\n",
    "OPENAI_API_KEY = \"sk-your-openai-api-key-here\""
   ]
  },
  {
   "cell_type": "code",
   "execution_count": 4,
   "metadata": {},
   "outputs": [
    {
     "name": "stdout",
     "output_type": "stream",
     "text": [
      "✅ Chat Model initialized successfully!\n",
      "Model: gpt-4o-mini\n",
      "Temperature: 0.1\n",
      "Max Tokens: 1000\n"
     ]
    }
   ],
   "source": [
    "# Initialize the Chat Model\n",
    "# This is the foundation for all chat-based interactions\n",
    "chat_model = ChatOpenAI(\n",
    "    model=\"gpt-4o-mini\",  # The specific model to use\n",
    "    api_key=OPENAI_API_KEY,\n",
    "    temperature=0.1,  # Controls randomness (0 = deterministic, 1 = creative)\n",
    "    max_tokens=1000   # Maximum response length\n",
    ")\n",
    "\n",
    "print(\"✅ Chat Model initialized successfully!\")\n",
    "print(f\"Model: {chat_model.model_name}\")\n",
    "print(f\"Temperature: {chat_model.temperature}\")\n",
    "print(f\"Max Tokens: {chat_model.max_tokens}\")"
   ]
  },
  {
   "cell_type": "markdown",
   "metadata": {},
   "source": [
    "## 4. Understanding Message Types\n",
    "\n",
    "LangChain uses a structured message system that's crucial for applications. Let's explore the different message types:"
   ]
  },
  {
   "cell_type": "code",
   "execution_count": 5,
   "metadata": {},
   "outputs": [
    {
     "name": "stdout",
     "output_type": "stream",
     "text": [
      "📝 Message Types Created:\n",
      "System: You are an business analyst. Provide concise, prof...\n",
      "Human: What are the key metrics for measuring business performance?\n",
      "AI: Key business performance metrics include: Revenue ...\n",
      "\n",
      "🔍 Message Structure:\n",
      "System Message Type: SystemMessage\n",
      "Human Message Type: HumanMessage\n",
      "AI Message Type: AIMessage\n"
     ]
    }
   ],
   "source": [
    "# Create different types of messages\n",
    "# This demonstrates the structured approach to conversations\n",
    "\n",
    "# System Message: Sets the context and behavior\n",
    "system_message = SystemMessage(\n",
    "    content=\"You are an business analyst. Provide concise, professional responses.\"\n",
    ")\n",
    "\n",
    "# Human Message: User input\n",
    "human_message = HumanMessage(\n",
    "    content=\"What are the key metrics for measuring business performance?\"\n",
    ")\n",
    "\n",
    "# AI Message: Model response (this would be generated by the model, in this case, the OpenAI API. We are mocking the response for now just to show the Type of the Message)\n",
    "ai_message = AIMessage(\n",
    "    content=\"Key business performance metrics include: Revenue Growth, Customer Acquisition Cost (CAC), Customer Lifetime Value (CLV), and Net Promoter Score (NPS).\"\n",
    ")\n",
    "\n",
    "print(\"📝 Message Types Created:\")\n",
    "print(f\"System: {system_message.content[:50]}...\")\n",
    "print(f\"Human: {human_message.content}\")\n",
    "print(f\"AI: {ai_message.content[:50]}...\")\n",
    "\n",
    "print(\"\\n🔍 Message Structure:\")\n",
    "print(f\"System Message Type: {type(system_message).__name__}\")\n",
    "print(f\"Human Message Type: {type(human_message).__name__}\")\n",
    "print(f\"AI Message Type: {type(ai_message).__name__}\")"
   ]
  },
  {
   "cell_type": "markdown",
   "metadata": {},
   "source": [
    "## 5. Making Your First API Call\n",
    "\n",
    "Now let's make an actual call to the Chat Model. This demonstrates the basic interaction pattern:"
   ]
  },
  {
   "cell_type": "code",
   "execution_count": 6,
   "metadata": {},
   "outputs": [
    {
     "name": "stdout",
     "output_type": "stream",
     "text": [
      "🤖 Chat Model Response:\n",
      "Digital transformation is the process of integrating digital technology into all areas of a business, fundamentally changing how it operates and delivers value to customers.\n",
      "\n",
      "🔍 Response Analysis:\n",
      "Response Type: AIMessage\n",
      "Content Length: 173 characters\n",
      "Model Used: gpt-4o-mini-2024-07-18\n"
     ]
    }
   ],
   "source": [
    "# Make a simple API call\n",
    "# This demonstrates the fundamental pattern of interacting with chat models\n",
    "try:\n",
    "    response = chat_model.invoke([\n",
    "        SystemMessage(content=\"You are a helpful business consultant.\"),\n",
    "        HumanMessage(content=\"Explain the concept of digital transformation in one sentence.\")\n",
    "    ])\n",
    "    \n",
    "    print(\"🤖 Chat Model Response:\")\n",
    "    print(response.content)\n",
    "    \n",
    "    print(\"\\n🔍 Response Analysis:\")\n",
    "    print(f\"Response Type: {type(response).__name__}\")\n",
    "    print(f\"Content Length: {len(response.content)} characters\")\n",
    "    print(f\"Model Used: {response.response_metadata.get('model_name', 'Unknown')}\")\n",
    "    \n",
    "except Exception as e:\n",
    "    print(f\"❌ Error: {e}\")\n",
    "    print(\"\\n💡 Make sure you have set your OpenAI API key correctly!\")"
   ]
  },
  {
   "cell_type": "markdown",
   "metadata": {},
   "source": [
    "## 6. Working with Multiple Messages and Conversations\n",
    "\n",
    "Applications often require multi-turn conversations. Let's explore how to manage conversation flow:"
   ]
  },
  {
   "cell_type": "code",
   "execution_count": 7,
   "metadata": {},
   "outputs": [
    {
     "name": "stdout",
     "output_type": "stream",
     "text": [
      "🔄 First Turn:\n",
      "User: What are the main types of investment vehicles?\n",
      "AI: Investment vehicles are various methods through which individuals can invest their money to generate...\n",
      "\n",
      "🔄 Second Turn:\n",
      "User: Which one is best for beginners?\n",
      "AI: For beginners, the best investment vehicles typically offer a balance of simplicity, lower risk, and...\n",
      "\n",
      "📊 Conversation Summary:\n",
      "Total Messages: 5\n",
      "System Messages: 1\n",
      "Human Messages: 2\n",
      "AI Messages: 2\n"
     ]
    }
   ],
   "source": [
    "# Create a conversation with multiple turns\n",
    "# This demonstrates how to maintain context across interactions\n",
    "\n",
    "# Initial conversation setup\n",
    "conversation = [\n",
    "    SystemMessage(content=\"You are a financial advisor helping with investment decisions.\"),\n",
    "    HumanMessage(content=\"What are the main types of investment vehicles?\")\n",
    "]\n",
    "\n",
    "print(\"🔄 First Turn:\")\n",
    "try:\n",
    "    response1 = chat_model.invoke(conversation)\n",
    "    print(f\"User: {conversation[-1].content}\")\n",
    "    print(f\"AI: {response1.content[:100]}...\")\n",
    "    \n",
    "    # Add the AI response to the conversation\n",
    "    conversation.append(response1)\n",
    "    \n",
    "    # Add a follow-up question\n",
    "    conversation.append(HumanMessage(content=\"Which one is best for beginners?\"))\n",
    "    \n",
    "    print(\"\\n🔄 Second Turn:\")\n",
    "    response2 = chat_model.invoke(conversation)\n",
    "    print(f\"User: {conversation[-1].content}\")\n",
    "    print(f\"AI: {response2.content[:100]}...\")\n",
    "\n",
    "    conversation.append(response2)\n",
    "    \n",
    "    print(\"\\n📊 Conversation Summary:\")\n",
    "    print(f\"Total Messages: {len(conversation)}\")\n",
    "    print(f\"System Messages: {len([m for m in conversation if isinstance(m, SystemMessage)])}\")\n",
    "    print(f\"Human Messages: {len([m for m in conversation if isinstance(m, HumanMessage)])}\")\n",
    "    print(f\"AI Messages: {len([m for m in conversation if isinstance(m, AIMessage)])}\")\n",
    "    \n",
    "except Exception as e:\n",
    "    print(f\"❌ Error: {e}\")\n",
    "    print(\"\\n💡 Make sure you have set your OpenAI API key correctly!\")"
   ]
  },
  {
   "cell_type": "markdown",
   "metadata": {},
   "source": [
    "## 7. Implementing Prompt Templates\n",
    "\n",
    "Prompt templates are essential for applications as they ensure consistency and maintainability. Let's explore how to create and use them:"
   ]
  },
  {
   "cell_type": "code",
   "execution_count": 8,
   "metadata": {},
   "outputs": [
    {
     "name": "stdout",
     "output_type": "stream",
     "text": [
      "✅ Prompt Template Created Successfully!\n",
      "\n",
      "🔍 Template Structure:\n",
      "Number of Messages: 2\n",
      "System Message Variables: ['domain', 'length', 'role', 'style', 'tone']\n",
      "Human Message Variables: ['query', 'topic']\n"
     ]
    }
   ],
   "source": [
    "# Create a prompt template for business analysis\n",
    "# This demonstrates how to create reusable, configurable prompts\n",
    "\n",
    "# Define the template structure\n",
    "template = ChatPromptTemplate.from_messages([\n",
    "    SystemMessagePromptTemplate.from_template(\n",
    "        \"You are a {role} with expertise in {domain}. \"\n",
    "        \"Provide {tone} responses that are {length} and {style}.\"\n",
    "    ),\n",
    "    HumanMessagePromptTemplate.from_template(\n",
    "        \"Analyze the following {topic}: {query}\"\n",
    "    )\n",
    "])\n",
    "\n",
    "print(\"✅ Prompt Template Created Successfully!\")\n",
    "print(\"\\n🔍 Template Structure:\")\n",
    "print(f\"Number of Messages: {len(template.messages)}\")\n",
    "print(f\"System Message Variables: {template.messages[0].prompt.input_variables}\")\n",
    "print(f\"Human Message Variables: {template.messages[1].prompt.input_variables}\")"
   ]
  },
  {
   "cell_type": "code",
   "execution_count": 9,
   "metadata": {},
   "outputs": [
    {
     "name": "stdout",
     "output_type": "stream",
     "text": [
      "📈 Financial Analysis Prompt:\n",
      "1. SystemMessage: You are a senior financial analyst with expertise in corporate finance and inves...\n",
      "2. HumanMessage: Analyze the following market trend: What are the current trends in sustainable i...\n",
      "\n",
      "============================================================\n",
      "\n",
      "📱 Marketing Analysis Prompt:\n",
      "1. SystemMessage: You are a marketing strategist with expertise in digital marketing and consumer ...\n",
      "2. HumanMessage: Analyze the following customer engagement strategy: How can we improve customer ...\n"
     ]
    }
   ],
   "source": [
    "# Use the prompt template with different parameters\n",
    "# This shows how templates enable consistent, configurable interactions\n",
    "\n",
    "# Example 1: Financial Analysis\n",
    "financial_prompt = template.format_messages(\n",
    "    role=\"senior financial analyst\",\n",
    "    domain=\"corporate finance and investment\",\n",
    "    tone=\"professional and analytical\",\n",
    "    length=\"comprehensive\",\n",
    "    style=\"data-driven\",\n",
    "    topic=\"market trend\",\n",
    "    query=\"What are the current trends in sustainable investing?\"\n",
    ")\n",
    "\n",
    "print(\"📈 Financial Analysis Prompt:\")\n",
    "for i, message in enumerate(financial_prompt):\n",
    "    print(f\"{i+1}. {type(message).__name__}: {message.content[:80]}...\")\n",
    "\n",
    "print(\"\\n\" + \"=\"*60 + \"\\n\")\n",
    "\n",
    "# Example 2: Marketing Analysis\n",
    "marketing_prompt = template.format_messages(\n",
    "    role=\"marketing strategist\",\n",
    "    domain=\"digital marketing and consumer behavior\",\n",
    "    tone=\"creative and strategic\",\n",
    "    length=\"concise\",\n",
    "    style=\"actionable\",\n",
    "    topic=\"customer engagement strategy\",\n",
    "    query=\"How can we improve customer retention through digital channels?\"\n",
    ")\n",
    "\n",
    "print(\"📱 Marketing Analysis Prompt:\")\n",
    "for i, message in enumerate(marketing_prompt):\n",
    "    print(f\"{i+1}. {type(message).__name__}: {message.content[:80]}...\")"
   ]
  },
  {
   "cell_type": "markdown",
   "metadata": {},
   "source": [
    "## 8. Creating LLM Chains\n",
    "\n",
    "Chains are powerful constructs that combine prompts, models, and output processing. They're essential for building complex workflows:"
   ]
  },
  {
   "cell_type": "code",
   "execution_count": 10,
   "metadata": {},
   "outputs": [
    {
     "name": "stdout",
     "output_type": "stream",
     "text": [
      "✅ Business Analysis Chain Created!\n",
      "Chain Type: RunnableSequence\n"
     ]
    }
   ],
   "source": [
    "# Create a business analysis chain\n",
    "# This demonstrates how to orchestrate multiple components into a workflow\n",
    "\n",
    "# Define a specialized prompt for business analysis\n",
    "business_analysis_template = ChatPromptTemplate.from_messages([\n",
    "    SystemMessagePromptTemplate.from_template(\n",
    "        \"You are a business analyst specializing in {industry}. \"\n",
    "        \"Provide analysis in the following format:\\n\"\n",
    "        \"1. Key Insights\\n\"\n",
    "        \"2. Risk Factors\\n\"\n",
    "        \"3. Recommendations\\n\"\n",
    "        \"4. Next Steps\"\n",
    "    ),\n",
    "    HumanMessagePromptTemplate.from_template(\n",
    "        \"Analyze the following business scenario: {scenario}\"\n",
    "    )\n",
    "])\n",
    "\n",
    "# Create the chain\n",
    "prompt = business_analysis_template\n",
    "model = chat_model\n",
    "output_parser = StrOutputParser()\n",
    "\n",
    "business_chain = prompt | model | output_parser\n",
    "\n",
    "print(\"✅ Business Analysis Chain Created!\")\n",
    "print(f\"Chain Type: {type(business_chain).__name__}\")"
   ]
  },
  {
   "cell_type": "code",
   "execution_count": 11,
   "metadata": {},
   "outputs": [
    {
     "name": "stdout",
     "output_type": "stream",
     "text": [
      "🏭 Business Analysis Scenario:\n",
      "A mid-sized manufacturing company is considering expanding into international markets. They have strong domestic sales but limited experience with global operations.\n",
      "\n",
      "================================================================================\n",
      "\n",
      "📊 Analysis Results:\n",
      "### Key Insights\n",
      "1. **Strong Domestic Performance**: The company has established a solid foundation in domestic sales, indicating a robust product-market fit and operational efficiency that can be leveraged in international markets.\n",
      "2. **Limited Global Experience**: The lack of experience in international operations may pose challenges in understanding foreign market dynamics, regulatory environments, and cultural differences.\n",
      "3. **Market Potential**: Expanding into international markets can provide significant growth opportunities, especially in emerging economies where demand for manufactured goods is rising.\n",
      "4. **Competitive Landscape**: The company will face competition from both local and established international players, necessitating a clear differentiation strategy.\n",
      "5. **Supply Chain Considerations**: International expansion may complicate supply chain logistics, requiring careful planning to ensure cost-effectiveness and reliability.\n",
      "\n",
      "### Risk Factors\n",
      "1. **Regulatory Compliance**: Navigating different regulatory frameworks can be complex and may lead to legal challenges if not managed properly.\n",
      "2. **Cultural Misalignment**: Misunderstanding local consumer preferences and cultural nuances can result in poor market reception and brand reputation damage.\n",
      "3. **Financial Risks**: Currency fluctuations, tariffs, and trade barriers can impact profitability and pricing strategies.\n",
      "4. **Operational Challenges**: Establishing new facilities or partnerships abroad may lead to operational inefficiencies and increased overhead costs.\n",
      "5. **Market Entry Strategy**: Choosing the wrong entry strategy (e.g., direct investment, joint ventures, or exporting) can hinder success and lead to wasted resources.\n",
      "\n",
      "### Recommendations\n",
      "1. **Conduct Market Research**: Perform thorough market analysis to identify potential countries for expansion, focusing on demand, competition, and regulatory environments.\n",
      "2. **Develop a Strategic Plan**: Create a detailed international expansion strategy that outlines objectives, target markets, entry modes, and resource allocation.\n",
      "3. **Leverage Partnerships**: Consider forming alliances with local firms to gain market insights, share risks, and navigate regulatory landscapes more effectively.\n",
      "4. **Invest in Training**: Equip the team with knowledge and skills related to international business practices, cultural sensitivity, and foreign market operations.\n",
      "5. **Pilot Program**: Start with a pilot program in a selected market to test the waters before committing significant resources to a full-scale launch.\n",
      "\n",
      "### Next Steps\n",
      "1. **Market Analysis**: Initiate a comprehensive market analysis to identify the most promising international markets based on demand, competition, and regulatory factors.\n",
      "2. **Stakeholder Engagement**: Engage with key stakeholders, including management, employees, and potential partners, to gather insights and build support for the expansion initiative.\n",
      "3. **Financial Assessment**: Conduct a financial feasibility study to evaluate the costs associated with international expansion, including potential revenue projections and ROI.\n",
      "4. **Risk Management Plan**: Develop a risk management framework to identify, assess, and mitigate potential risks associated with international operations.\n",
      "5. **Implementation Timeline**: Create a timeline for the expansion process, including milestones for market entry, resource allocation, and performance evaluation.\n",
      "\n",
      "🔍 Chain Execution Details:\n",
      "Output Type: <class 'str'>\n"
     ]
    }
   ],
   "source": [
    "# Execute the business analysis chain\n",
    "# This demonstrates the power of combining prompts, models, and processing\n",
    "\n",
    "try:\n",
    "    # Example business scenario\n",
    "    scenario = \"A mid-sized manufacturing company is considering expanding into international markets. \" \\\n",
    "               \"They have strong domestic sales but limited experience with global operations.\"\n",
    "    \n",
    "    print(\"🏭 Business Analysis Scenario:\")\n",
    "    print(scenario)\n",
    "    print(\"\\n\" + \"=\"*80 + \"\\n\")\n",
    "    \n",
    "    # Execute the chain\n",
    "    result = business_chain.invoke({\n",
    "        \"industry\": \"manufacturing and international business\",\n",
    "        \"scenario\": scenario\n",
    "    })\n",
    "    \n",
    "    print(\"📊 Analysis Results:\")\n",
    "    print(result)\n",
    "    \n",
    "    print(\"\\n🔍 Chain Execution Details:\")\n",
    "    print(f\"Output Type: {type(result)}\")\n",
    "    \n",
    "except Exception as e:\n",
    "    print(f\"❌ Error: {e}\")\n",
    "    print(\"\\n💡 Make sure you have set your OpenAI API key correctly!\")"
   ]
  },
  {
   "cell_type": "markdown",
   "metadata": {},
   "source": [
    "## 9. Advanced Chat Model Features\n",
    "\n",
    "Let's explore some advanced features that are particularly valuable:"
   ]
  },
  {
   "cell_type": "code",
   "execution_count": 12,
   "metadata": {},
   "outputs": [
    {
     "name": "stdout",
     "output_type": "stream",
     "text": [
      "✅ Advanced Chat Model Configured!\n",
      "\n",
      "🔧 Configuration Parameters:\n",
      "Model: gpt-4o-mini\n",
      "Temperature: 0.0\n",
      "Max Tokens: 300\n",
      "Request Timeout: 30.0 seconds\n",
      "Max Retries: 3\n",
      "Streaming: False\n"
     ]
    }
   ],
   "source": [
    "# Configure advanced chat model parameters\n",
    "# These parameters are crucial for enterprise applications\n",
    "\n",
    "advanced_chat_model = ChatOpenAI(\n",
    "    model=\"gpt-4o-mini\",\n",
    "    api_key=OPENAI_API_KEY,\n",
    "    temperature=0.0,  # Deterministic responses for business applications\n",
    "    max_tokens=300,  # Limit the response length\n",
    "    request_timeout=30,  # Timeout for API calls\n",
    "    max_retries=3,  # Retry logic for reliability\n",
    "    streaming=False  # Stream responses configuration\n",
    ")\n",
    "\n",
    "print(\"✅ Advanced Chat Model Configured!\")\n",
    "print(\"\\n🔧 Configuration Parameters:\")\n",
    "print(f\"Model: {advanced_chat_model.model_name}\")\n",
    "print(f\"Temperature: {advanced_chat_model.temperature}\")\n",
    "print(f\"Max Tokens: {advanced_chat_model.max_tokens}\")\n",
    "print(f\"Request Timeout: {advanced_chat_model.request_timeout} seconds\")\n",
    "print(f\"Max Retries: {advanced_chat_model.max_retries}\")\n",
    "print(f\"Streaming: {advanced_chat_model.streaming}\")"
   ]
  },
  {
   "cell_type": "code",
   "execution_count": 13,
   "metadata": {},
   "outputs": [
    {
     "name": "stdout",
     "output_type": "stream",
     "text": [
      "🏢 Structured Business Analysis:\n",
      "============================================================\n",
      "# Analysis of Remote Work for Enterprise Companies\n",
      "\n",
      "## Benefits\n",
      "\n",
      "1. **Increased Flexibility**\n",
      "   - Employees can work from various locations, leading to improved work-life balance.\n",
      "   - Flexibility in working hours can enhance productivity for some employees.\n",
      "\n",
      "2. **Cost Savings**\n",
      "   - Reduction in overhead costs such as office space, utilities, and supplies.\n",
      "   - Potential savings on employee commuting costs, which can be redirected to other business areas.\n",
      "\n",
      "3. **Access to a Global Talent Pool**\n",
      "   - Ability to hire talent from different geographical locations, increasing diversity and skill sets.\n",
      "   - Reduced competition for local talent can lead to better hiring outcomes.\n",
      "\n",
      "4. **Enhanced Productivity**\n",
      "   - Many employees report higher productivity levels when working remotely due to fewer office distractions.\n",
      "   - The ability to create a personalized work environment can lead to improved focus.\n",
      "\n",
      "5. **Business Continuity**\n",
      "   - Remote work capabilities can ensure operations continue during crises (e.g., natural disasters, pandemics).\n",
      "   - Increased resilience against disruptions in the workplace.\n",
      "\n",
      "## Challenges\n",
      "\n",
      "1. **Communication Barriers**\n",
      "   - Potential for miscommunication due to lack of face-to-face interaction.\n",
      "   - Time zone differences can complicate collaboration and project management.\n",
      "\n",
      "2. **Employee Isolation**\n",
      "   - Remote work can lead to feelings of loneliness and disconnection from the team.\n",
      "   - Lack of social interaction may affect employee morale and engagement.\n",
      "\n",
      "3. **Management and Oversight**\n",
      "   - Difficulty in monitoring employee performance and productivity.\n",
      "\n",
      "\n",
      "🔍 Response Analysis:\n",
      "Response Length: 1607 characters\n",
      "Model Used: gpt-4o-mini-2024-07-18\n",
      "Finish Reason: length\n"
     ]
    }
   ],
   "source": [
    "# Demonstrate structured output with advanced features\n",
    "# This shows how to get consistent, parseable responses\n",
    "\n",
    "try:\n",
    "    # Create a structured analysis request\n",
    "    structured_prompt = [\n",
    "        SystemMessage(content=\"You are a business consultant. Provide responses in a structured format with clear sections.\"),\n",
    "        HumanMessage(content=\"Analyze the benefits and challenges of remote work for enterprise companies. \"\n",
    "                    \"Structure your response with: Benefits, Challenges, Recommendations, and Implementation Timeline.\")\n",
    "    ]\n",
    "    \n",
    "    print(\"🏢 Structured Business Analysis:\")\n",
    "    print(\"=\"*60)\n",
    "    \n",
    "    response = advanced_chat_model.invoke(structured_prompt)\n",
    "    \n",
    "    print(response.content)\n",
    "    \n",
    "    print(\"\\n🔍 Response Analysis:\")\n",
    "    print(f\"Response Length: {len(response.content)} characters\")\n",
    "    print(f\"Model Used: {response.response_metadata.get('model_name', 'Unknown')}\")\n",
    "    print(f\"Finish Reason: {response.response_metadata.get('finish_reason', 'Unknown')}\")\n",
    "    \n",
    "except Exception as e:\n",
    "    print(f\"❌ Error: {e}\")\n",
    "    print(\"\\n💡 Make sure you have set your OpenAI API key correctly!\")"
   ]
  },
  {
   "cell_type": "markdown",
   "metadata": {},
   "source": [
    "## 10. Integration Patterns\n",
    "\n",
    "Let's explore how Chat Models can be integrated into systems and workflows:"
   ]
  },
  {
   "cell_type": "code",
   "execution_count": 14,
   "metadata": {},
   "outputs": [
    {
     "name": "stdout",
     "output_type": "stream",
     "text": [
      "🏢 Role Prompt Templates:\n",
      "\n",
      "Customer Service:\n",
      "  You are a customer service representative. Be helpful, professional, and empathetic.\n",
      "\n",
      "Sales Consultant:\n",
      "  You are a sales consultant. Focus on understanding customer needs and providing value.\n",
      "\n",
      "Technical Support:\n",
      "  You are a technical support specialist. Provide clear, step-by-step solutions.\n",
      "\n",
      "Business Analyst:\n",
      "  You are a business analyst. Provide data-driven insights and actionable recommendations.\n",
      "\n",
      "================================================================================\n",
      "\n"
     ]
    }
   ],
   "source": [
    "# Example: Workflow integration\n",
    "# This demonstrates how chat models can be part of larger business processes\n",
    "\n",
    "# Define role-specific prompts\n",
    "role_prompts = {\n",
    "    \"customer_service\": \"You are a customer service representative. Be helpful, professional, and empathetic.\",\n",
    "    \"sales_consultant\": \"You are a sales consultant. Focus on understanding customer needs and providing value.\",\n",
    "    \"technical_support\": \"You are a technical support specialist. Provide clear, step-by-step solutions.\",\n",
    "    \"business_analyst\": \"You are a business analyst. Provide data-driven insights and actionable recommendations.\"\n",
    "}\n",
    "\n",
    "print(\"🏢 Role Prompt Templates:\")\n",
    "for role, prompt in role_prompts.items():\n",
    "    print(f\"\\n{role.replace('_', ' ').title()}:\")\n",
    "    print(f\"  {prompt}\")\n",
    "\n",
    "print(\"\\n\" + \"=\"*80 + \"\\n\")\n",
    "\n",
    "# Create a function to handle different scenarios\n",
    "def handle_query(query: str, role: str, context: str = \"\") -> str:\n",
    "    \"\"\"Handle queries with role-specific prompts.\"\"\"\n",
    "    \n",
    "    # Build the conversation\n",
    "    messages = [\n",
    "        SystemMessage(content=role_prompts.get(role, role_prompts[\"business_analyst\"])),\n",
    "        HumanMessage(content=f\"Context: {context}\\n\\nQuery: {query}\" if context else query)\n",
    "    ]\n",
    "    \n",
    "    try:\n",
    "        response = advanced_chat_model.invoke(messages)\n",
    "        return response.content\n",
    "    except Exception as e:\n",
    "        return f\"Error processing query: {e}\""
   ]
  },
  {
   "cell_type": "code",
   "execution_count": 15,
   "metadata": {},
   "outputs": [
    {
     "name": "stdout",
     "output_type": "stream",
     "text": [
      "🧪 Testing Integration:\n",
      "============================================================\n",
      "\n",
      "📋 Scenario 1: Customer Service\n",
      "Query: A customer is upset about a delayed delivery. How should I respond?\n",
      "Context: Premium customer, 2-day delay, first complaint\n",
      "--------------------------------------------------\n",
      "Response: Subject: Apology for Your Delayed Delivery\n",
      "\n",
      "Dear [Customer's Name],\n",
      "\n",
      "Thank you for reaching out to us, and I sincerely apologize for the inconvenience caused by the delay in your delivery. I understan...\n",
      "\n",
      "📋 Scenario 2: Sales Consultant\n",
      "Query: What questions should I ask to understand a prospect's needs?\n",
      "Context: B2B software sales, mid-market company\n",
      "--------------------------------------------------\n",
      "Response: To effectively understand a prospect's needs in a B2B software sales context, especially for a mid-market company, consider asking the following questions:\n",
      "\n",
      "1. **Business Goals and Challenges:**\n",
      "   - ...\n",
      "\n",
      "📋 Scenario 3: Business Analyst\n",
      "Query: What metrics should we track for customer satisfaction?\n",
      "Context: E-commerce platform, 100K+ customers\n",
      "--------------------------------------------------\n",
      "Response: To effectively measure customer satisfaction for your e-commerce platform, you should track a combination of quantitative and qualitative metrics. Here are key metrics to consider:\n",
      "\n",
      "### 1. **Net Promo...\n"
     ]
    }
   ],
   "source": [
    "# Test the integration\n",
    "# This demonstrates how different business roles can be handled\n",
    "\n",
    "print(\"🧪 Testing Integration:\")\n",
    "print(\"=\"*60)\n",
    "\n",
    "# Test different scenarios\n",
    "test_scenarios = [\n",
    "    {\n",
    "        \"role\": \"customer_service\",\n",
    "        \"query\": \"A customer is upset about a delayed delivery. How should I respond?\",\n",
    "        \"context\": \"Premium customer, 2-day delay, first complaint\"\n",
    "    },\n",
    "    {\n",
    "        \"role\": \"sales_consultant\",\n",
    "        \"query\": \"What questions should I ask to understand a prospect's needs?\",\n",
    "        \"context\": \"B2B software sales, mid-market company\"\n",
    "    },\n",
    "    {\n",
    "        \"role\": \"business_analyst\",\n",
    "        \"query\": \"What metrics should we track for customer satisfaction?\",\n",
    "        \"context\": \"E-commerce platform, 100K+ customers\"\n",
    "    }\n",
    "]\n",
    "\n",
    "for i, scenario in enumerate(test_scenarios, 1):\n",
    "    print(f\"\\n📋 Scenario {i}: {scenario['role'].replace('_', ' ').title()}\")\n",
    "    print(f\"Query: {scenario['query']}\")\n",
    "    print(f\"Context: {scenario['context']}\")\n",
    "    print(\"-\" * 50)\n",
    "    \n",
    "    try:\n",
    "        response = handle_query(\n",
    "            scenario['query'], \n",
    "            scenario['role'], \n",
    "            scenario['context']\n",
    "        )\n",
    "        print(f\"Response: {response[:200]}...\")\n",
    "    except Exception as e:\n",
    "        print(f\"Error: {e}\")"
   ]
  },
  {
   "cell_type": "markdown",
   "metadata": {},
   "source": [
    "## 11. Key Takeaways\n",
    "\n",
    "### What We've Accomplished\n",
    "\n",
    "1. **Chat Model Fundamentals**: Established the basic patterns for working with language models\n",
    "2. **Message Management**: Learned how to structure conversations and maintain context\n",
    "3. **Prompt Engineering**: Created reusable, configurable prompts for different business scenarios\n",
    "4. **Chain Orchestration**: Built workflows that combine multiple components\n",
    "\n",
    "### Enterprise Architecture Considerations\n",
    "\n",
    "#### Scalability\n",
    "- Chat models can be deployed as microservices\n",
    "- Prompt templates enable consistent behavior across multiple instances\n",
    "- Chains can be distributed across different systems\n",
    "\n",
    "#### Security\n",
    "- API keys must be managed securely\n",
    "- Response content should be validated for business compliance\n",
    "\n",
    "#### Integration\n",
    "- Chat models can replace or augment traditional business logic\n",
    "- Structured outputs enable seamless integration with existing systems\n",
    "\n",
    "#### Cost Management\n",
    "- Token usage should be monitored and optimized\n",
    "- Response length limits help control costs"
   ]
  },
  {
   "cell_type": "markdown",
   "metadata": {},
   "source": [
    "## 12. Exercise: Build Your First Chat Model Application\n",
    "\n",
    "Now it's your turn to create a chat model application for a specific business scenario. Choose one of the following exercises:"
   ]
  },
  {
   "cell_type": "code",
   "execution_count": null,
   "metadata": {},
   "outputs": [
    {
     "name": "stdout",
     "output_type": "stream",
     "text": [
      "🚀 Ready to build your first chat model application!\n"
     ]
    }
   ],
   "source": [
    "# Exercise 1: Business Analysis Assistant\n",
    "# Create an assistant that can analyze business scenarios\n",
    "\n",
    "def create_business_analyst():\n",
    "    \"\"\"Create a business analysis assistant.\"\"\"\n",
    "    \n",
    "    # TODO: Implement your business analyst assistant here\n",
    "    # 1. Create a system prompt for business analysis\n",
    "    # 2. Define analysis frameworks\n",
    "    # 3. Implement structured output\n",
    "    # 4. Test with sample business scenarios\n",
    "    \n",
    "    print(\"Exercise 1: Business Analysis Assistant\")\n",
    "    print(\"Create an assistant that can:\")\n",
    "    print(\"- Analyze business scenarios\")\n",
    "    print(\"- Provide structured insights\")\n",
    "    print(\"- Generate actionable recommendations\")\n",
    "    \n",
    "    return \"Business analyst implementation goes here\"\n",
    "\n",
    "# Exercise 2: Technical Documentation Assistant\n",
    "# Create an assistant that can help with technical documentation\n",
    "\n",
    "def create_tech_doc_assistant():\n",
    "    \"\"\"Create a technical documentation assistant.\"\"\"\n",
    "    \n",
    "    # TODO: Implement your technical documentation assistant here\n",
    "    # 1. Create a system prompt for technical writing\n",
    "    # 2. Define documentation standards\n",
    "    # 3. Implement content generation\n",
    "    # 4. Test with sample technical topics\n",
    "    \n",
    "    print(\"Exercise 2: Technical Documentation Assistant\")\n",
    "    print(\"Create an assistant that can:\")\n",
    "    print(\"- Help with technical writing\")\n",
    "    print(\"- Maintain documentation standards\")\n",
    "    print(\"- Generate clear explanations\")\n",
    "    \n",
    "    return \"Technical documentation assistant implementation goes here\"\n",
    "\n",
    "print(\"🚀 Ready to build your first chat model application!\")"
   ]
  },
  {
   "cell_type": "markdown",
   "metadata": {},
   "source": [
    "## 13. Conclusion\n",
    "\n",
    "Congratulations! You've successfully completed the foundational lesson on Chat Models with LangChain. You now understand:\n",
    "\n",
    "### Technical Competencies\n",
    "- How to initialize and configure Chat Models\n",
    "- How to structure conversations with different message types\n",
    "- How to create and use prompt templates\n",
    "- How to build LLM chains for complex workflows\n",
    "- How to integrate Chat Models into systems\n",
    "\n",
    "### Enterprise Insights\n",
    "- The architectural implications of Chat Models\n",
    "- How Chat Models can transform business processes\n",
    "- Common use cases and implementation patterns\n",
    "- Integration strategies for existing systems\n",
    "\n",
    "### Next Steps\n",
    "\n",
    "In the next lesson, you'll learn about:\n",
    "- Building conversational chatbots\n",
    "- Managing conversation state and memory\n",
    "- Implementing advanced conversation flows\n",
    "- Chatbot deployment strategies\n",
    "\n",
    "---\n",
    "\n",
    "Happy coding! 🚀"
   ]
  }
 ],
 "metadata": {
  "kernelspec": {
   "display_name": "venv",
   "language": "python",
   "name": "python3"
  },
  "language_info": {
   "codemirror_mode": {
    "name": "ipython",
    "version": 3
   },
   "file_extension": ".py",
   "mimetype": "text/x-python",
   "name": "python",
   "nbconvert_exporter": "python",
   "pygments_lexer": "ipython3",
   "version": "3.12.0"
  }
 },
 "nbformat": 4,
 "nbformat_minor": 4
}
