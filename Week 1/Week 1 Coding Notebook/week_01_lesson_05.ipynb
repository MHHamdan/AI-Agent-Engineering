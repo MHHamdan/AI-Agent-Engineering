{
 "cells": [
  {
   "cell_type": "markdown",
   "id": "12928e38",
   "metadata": {},
   "source": [
    "# Week 01 - Lesson 05 - Building AI Agents with Google ADK\n",
    "\n",
    "## Overview\n",
    "\n",
    "This notebook introduces Google's Agent Development Kit (ADK), a powerful framework for building AI agents. You'll learn how ADK differs from other frameworks and how to create sophisticated single agents that can handle complex business scenarios.\n",
    "\n",
    "# <img src=\"https://google.github.io/adk-docs/assets/adk-social-card.png\" alt=\"Agent Development Kit\" width=\"800\"/>\n",
    "\n",
    "\n",
    "### Learning Objectives\n",
    "1. Understand ADK's framework\n",
    "2. Create single agents with clear identity and purpose\n",
    "3. Implement tools and instructions for agent behavior\n",
    "4. Manage agent state and sessions\n",
    "\n",
    "## Why Google ADK?\n",
    "\n",
    "Google ADK is designed specifically for **enterprise AI agent development** with several key advantages:\n",
    "- **Production-Ready**: Built for enterprise deployment and scaling\n",
    "- **Google Cloud Integration**: Native integration with Google's AI services\n",
    "- **Structured Approach**: Clear patterns for agent identity, tools, and behavior\n",
    "- **Session Management**: Built-in state management and conversation tracking\n",
    "- **Enterprise Security**: Designed with enterprise security and compliance in mind\n",
    "\n",
    "## Key Concepts about the framework\n",
    "\n",
    "1. **LlmAgent**: The core agent class for LLM-powered reasoning\n",
    "2. **Tools**: Functions that agents can call to interact with external systems\n",
    "3. **Instructions**: Clear guidance that shapes agent behavior and decision-making\n",
    "4. **Sessions**: Persistent state management for ongoing conversations\n",
    "5. **State**: Data that flows through your agent system"
   ]
  },
  {
   "cell_type": "markdown",
   "id": "db92ffe8",
   "metadata": {},
   "source": [
    "## 1. Environment Setup and Dependencies\n",
    "\n",
    "First, let's ensure we have all necessary dependencies installed and configured."
   ]
  },
  {
   "cell_type": "code",
   "execution_count": null,
   "id": "8ebf8936",
   "metadata": {},
   "outputs": [],
   "source": [
    "# Install required dependencies\n",
    "%pip install -U --quiet google-adk google-genai litellm"
   ]
  },
  {
   "cell_type": "markdown",
   "id": "de8c0ccb",
   "metadata": {},
   "source": [
    "## Getting Started with Google ADK\n",
    "\n",
    "Google ADK allows you to use different LLM providers, such as Google Gemini, OpenAI, or Anthropic.  \n",
    "You can use your **API key** from `Google AI Studio` (for Gemini), but you may also use your existing `OpenAI` keys if you have them.  \n",
    "This enables your agents to call different LLMs as needed.\n",
    "\n",
    "Before running the examples in this notebook, make sure you have configured **AT LEAST ONE** valid API key.\n",
    "\n",
    "- 🔑 **OPENAI API KEY**: [Get you API Key from OpenAI Platform](https://platform.openai.com/settings/organization/api-keys)\n",
    "Note: You will need to have credits in your OpenAI account to use the API key for LLM calls.\n",
    "\n",
    "\n",
    "- 🔑 **GOOGLE AI STUDIO API Key**: [Get your FREE API Key from Google AI Studio](https://aistudio.google.com/apikey)  \n",
    "You will need to sign in with your Google account and generate an API key.  \n",
    "This key allows your agents to connect with **Gemini models** and other Google AI services.\n",
    "\n",
    "👉 Configure your API keys in the environment before running the examples.\n",
    "\n",
    "**Note:** To run the examples in this notebook, you only need to have at least one valid API key—either from OpenAI or from Google AI Studio (the latter is free).\n",
    "You do not need both. As long as you have one of these API keys configured, you will be able to use the LLM features demonstrated here.\n"
   ]
  },
  {
   "cell_type": "code",
   "execution_count": null,
   "id": "f5946234",
   "metadata": {},
   "outputs": [],
   "source": [
    "import os\n",
    "\n",
    "# Gemini API Key (Get from Google AI Studio: https://aistudio.google.com/app/apikey)\n",
    "os.environ[\"GOOGLE_API_KEY\"] = \"YOUR_GOOGLE_API_KEY\" # <--- REPLACE\n",
    "\n",
    "# OpenAI API Key (Get from OpenAI Platform: https://platform.openai.com/api-keys)\n",
    "os.environ['OPENAI_API_KEY'] = \"YOUR_OPENAI_API_KEY\" # <--- REPLACE\n",
    "\n",
    "# --- Verify Keys (Optional Check) ---\n",
    "print(\"API Keys Set:\")\n",
    "print(f\"Google API Key set: {'Yes' if os.environ.get('GOOGLE_API_KEY') and os.environ['GOOGLE_API_KEY'] != 'YOUR_GOOGLE_API_KEY' else 'No'}\")\n",
    "print(f\"OpenAI API Key set: {'Yes' if os.environ.get('OPENAI_API_KEY') and os.environ['OPENAI_API_KEY'] != 'YOUR_OPENAI_API_KEY' else 'No'}\")"
   ]
  },
  {
   "cell_type": "code",
   "execution_count": 3,
   "id": "c4403ce8",
   "metadata": {},
   "outputs": [],
   "source": [
    "# Import necessary libraries\n",
    "from google.adk.tools import FunctionTool\n",
    "from typing import Dict, Any, List\n",
    "\n",
    "from google.genai import types\n",
    "from google.adk.agents.llm_agent import LlmAgent\n",
    "from google.adk.runners import Runner\n",
    "from google.adk.sessions import InMemorySessionService\n",
    "from google.adk.models.lite_llm import LiteLlm\n"
   ]
  },
  {
   "cell_type": "markdown",
   "id": "07cb2db1",
   "metadata": {},
   "source": [
    "## 2. Understanding ADK Architecture\n",
    "\n",
    "Before diving into code, let's understand how ADK differs from other frameworks:\n",
    "\n",
    "### Core Differences from LangGraph\n",
    "\n",
    "1. **Structured Identity**: Clear definition of agent purpose, capabilities, and constraints\n",
    "2. **Tool Integration**: Seamless integration of external functions and APIs\n",
    "3. **Session Management**: Built-in conversation state and context management\n",
    "4. **Cloud Integration**: Native Google Cloud services integration\n",
    "\n",
    "### ADK Agent Components\n",
    "\n",
    "- **Identity**: Name, description, and purpose\n",
    "- **Instructions**: Clear behavioral guidelines and constraints\n",
    "- **Tools**: Functions the agent can call\n",
    "- **Model**: The underlying LLM that powers reasoning\n",
    "- **State Management**: Session-based conversation tracking"
   ]
  },
  {
   "cell_type": "markdown",
   "id": "782fe63e",
   "metadata": {},
   "source": [
    "## 3. Setting Up the Foundation\n",
    "\n",
    "Let's start by setting up the core components: the language model and our custom tools."
   ]
  },
  {
   "cell_type": "code",
   "execution_count": 4,
   "id": "38a2990f",
   "metadata": {},
   "outputs": [
    {
     "name": "stdout",
     "output_type": "stream",
     "text": [
      "Model Name:  model='openai/gpt-4.1' llm_client=<google.adk.models.lite_llm.LiteLLMClient object at 0x15d4fd5b0>\n",
      "✅ Configuration set up successfully!\n"
     ]
    }
   ],
   "source": [
    "# Configuration constants\n",
    "if os.environ.get('OPENAI_API_KEY') and os.environ.get('OPENAI_API_KEY') != \"YOUR_OPENAI_API_KEY\":\n",
    "    # Import LiteLlm\n",
    "    MODEL_GPT_4O = \"openai/gpt-4.1\" # You can also try: gpt-4.1-mini, gpt-4o etc.\n",
    "    MODEL_NAME = LiteLlm(model=MODEL_GPT_4O)\n",
    "\n",
    "elif os.environ.get('GOOGLE_API_KEY') and os.environ.get('OPENAI_API_KEY') != \"YOUR_GOOGLE_API_KEY\":\n",
    "    MODEL_NAME = \"gemini-2.0-flash\"\n",
    "\n",
    "else:\n",
    "    raise ValueError(\"No API key found. Please set either OPENAI_API_KEY or GOOGLE_API_KEY in the environment.\")\n",
    "\n",
    "print(\"Model Name: \", MODEL_NAME)\n",
    "APP_NAME = \"adk_agent_app\"\n",
    "USER_ID = \"user_001\"\n",
    "SESSION_ID = \"session_001\"\n",
    "\n",
    "print(\"✅ Configuration set up successfully!\")"
   ]
  },
  {
   "cell_type": "markdown",
   "id": "6c9ff77f",
   "metadata": {},
   "source": [
    "## 4. Creating Business Tools\n",
    "\n",
    "Let's create some tools that our agent can use to solve business problems."
   ]
  },
  {
   "cell_type": "code",
   "execution_count": 5,
   "id": "709c8539",
   "metadata": {},
   "outputs": [
    {
     "name": "stdout",
     "output_type": "stream",
     "text": [
      "✅ Market analysis tool created successfully!\n"
     ]
    }
   ],
   "source": [
    "# Business Intelligence Tool\n",
    "# Analyzes market data and provides insights\n",
    "def analyze_market_trends(industry: str, region: str) -> Dict[str, Any]:\n",
    "    \"\"\"Analyze market trends for a specific industry and region.\"\"\"\n",
    "    \n",
    "    # Simulated market analysis (in production, this would call real APIs)\n",
    "    market_data = {\n",
    "        \"technology\": {\n",
    "            \"north_america\": {\"growth_rate\": \"12.5%\", \"key_trends\": [\"AI/ML adoption\", \"Cloud migration\", \"Cybersecurity focus\"]},\n",
    "            \"europe\": {\"growth_rate\": \"8.3%\", \"key_trends\": [\"GDPR compliance\", \"Digital transformation\", \"Green tech\"]},\n",
    "            \"asia_pacific\": {\"growth_rate\": \"15.2%\", \"key_trends\": [\"Mobile-first\", \"E-commerce growth\", \"Fintech innovation\"]}\n",
    "        },\n",
    "        \"healthcare\": {\n",
    "            \"north_america\": {\"growth_rate\": \"6.8%\", \"key_trends\": [\"Telemedicine\", \"AI diagnostics\", \"Personalized medicine\"]},\n",
    "            \"europe\": {\"growth_rate\": \"5.2%\", \"key_trends\": [\"Universal healthcare\", \"Medical tourism\", \"Pharmaceutical innovation\"]},\n",
    "            \"asia_pacific\": {\"growth_rate\": \"9.1%\", \"key_trends\": [\"Medical devices\", \"Healthcare IT\", \"Traditional medicine integration\"]}\n",
    "        }\n",
    "    }\n",
    "    \n",
    "    if industry.lower() in market_data and region.lower().replace(\" \", \"_\") in market_data[industry.lower()]:\n",
    "        data = market_data[industry.lower()][region.lower().replace(\" \", \"_\")]\n",
    "        return {\n",
    "            \"industry\": industry,\n",
    "            \"region\": region,\n",
    "            \"growth_rate\": data[\"growth_rate\"],\n",
    "            \"key_trends\": data[\"key_trends\"],\n",
    "            \"analysis_timestamp\": \"2024-01-15T10:00:00Z\"\n",
    "        }\n",
    "    else:\n",
    "        return {\n",
    "            \"error\": f\"No data available for {industry} in {region}\",\n",
    "            \"available_industries\": list(market_data.keys()),\n",
    "            \"available_regions\": [\"North America\", \"Europe\", \"Asia Pacific\"]\n",
    "        }\n",
    "\n",
    "print(\"✅ Market analysis tool created successfully!\")"
   ]
  },
  {
   "cell_type": "code",
   "execution_count": 6,
   "id": "1923fb4d",
   "metadata": {},
   "outputs": [
    {
     "name": "stdout",
     "output_type": "stream",
     "text": [
      "✅ Financial analysis tool created successfully!\n"
     ]
    }
   ],
   "source": [
    "# Financial Analysis Tool\n",
    "# Provides financial insights and recommendations\n",
    "def analyze_financial_metrics(company_type: str, metrics: List[str]) -> Dict[str, Any]:\n",
    "    \"\"\"Analyze financial metrics for different company types.\"\"\"\n",
    "    \n",
    "    # Simulated financial analysis\n",
    "    financial_benchmarks = {\n",
    "        \"startup\": {\n",
    "            \"burn_rate\": \"$50K-$200K/month\",\n",
    "            \"runway\": \"12-18 months\",\n",
    "            \"key_metrics\": [\"Monthly Recurring Revenue (MRR)\", \"Customer Acquisition Cost (CAC)\", \"Lifetime Value (LTV)\"],\n",
    "            \"recommendations\": [\"Focus on product-market fit\", \"Optimize CAC\", \"Extend runway through funding\"]\n",
    "        },\n",
    "        \"scaleup\": {\n",
    "            \"burn_rate\": \"$200K-$1M/month\",\n",
    "            \"runway\": \"6-12 months\",\n",
    "            \"key_metrics\": [\"Annual Recurring Revenue (ARR)\", \"Net Revenue Retention\", \"Gross Margin\"],\n",
    "            \"recommendations\": [\"Scale efficiently\", \"Improve unit economics\", \"Focus on retention\"]\n",
    "        },\n",
    "        \"enterprise\": {\n",
    "            \"burn_rate\": \"$1M+/month\",\n",
    "            \"runway\": \"24+ months\",\n",
    "            \"key_metrics\": [\"EBITDA\", \"Free Cash Flow\", \"Return on Invested Capital (ROIC)\"],\n",
    "            \"recommendations\": [\"Optimize operations\", \"Strategic acquisitions\", \"Shareholder value creation\"]\n",
    "        }\n",
    "    }\n",
    "    \n",
    "    if company_type.lower() in financial_benchmarks:\n",
    "        data = financial_benchmarks[company_type.lower()]\n",
    "        return {\n",
    "            \"company_type\": company_type,\n",
    "            \"financial_profile\": data,\n",
    "            \"requested_metrics\": metrics,\n",
    "            \"analysis_timestamp\": \"2024-01-15T10:00:00Z\"\n",
    "        }\n",
    "    else:\n",
    "        return {\n",
    "            \"error\": f\"No data available for {company_type}\",\n",
    "            \"available_types\": list(financial_benchmarks.keys())\n",
    "        }\n",
    "\n",
    "print(\"✅ Financial analysis tool created successfully!\")"
   ]
  },
  {
   "cell_type": "code",
   "execution_count": 7,
   "id": "a449633b",
   "metadata": {},
   "outputs": [
    {
     "name": "stdout",
     "output_type": "stream",
     "text": [
      "✅ Customer behavior analysis tool created successfully!\n"
     ]
    }
   ],
   "source": [
    "# Customer Insights Tool\n",
    "# Analyzes customer behavior and provides insights\n",
    "def analyze_customer_behavior(customer_segment: str, behavior_type: str) -> Dict[str, Any]:\n",
    "    \"\"\"Analyze customer behavior patterns for different segments.\"\"\"\n",
    "    \n",
    "    # Simulated customer behavior analysis\n",
    "    customer_insights = {\n",
    "        \"enterprise\": {\n",
    "            \"purchase_behavior\": {\n",
    "                \"decision_cycle\": \"3-6 months\",\n",
    "                \"key_factors\": [\"ROI\", \"Integration complexity\", \"Vendor reputation\"],\n",
    "                \"touchpoints\": [\"Sales team\", \"Product demos\", \"Case studies\", \"References\"]\n",
    "            },\n",
    "            \"support_preferences\": {\n",
    "                \"channels\": [\"Dedicated account manager\", \"Phone support\", \"Email\"],\n",
    "                \"response_time\": \"4 hours\",\n",
    "                \"escalation_path\": \"Account manager → Sales director → VP\"\n",
    "            }\n",
    "        },\n",
    "        \"mid_market\": {\n",
    "            \"purchase_behavior\": {\n",
    "                \"decision_cycle\": \"1-3 months\",\n",
    "                \"key_factors\": [\"Cost-effectiveness\", \"Ease of use\", \"Quick implementation\"],\n",
    "                \"touchpoints\": [\"Website\", \"Free trials\", \"Webinars\", \"Documentation\"]\n",
    "            },\n",
    "            \"support_preferences\": {\n",
    "                \"channels\": [\"Email\", \"Chat support\", \"Knowledge base\"],\n",
    "                \"response_time\": \"8 hours\",\n",
    "                \"escalation_path\": \"Support team → Team lead → Manager\"\n",
    "            }\n",
    "        },\n",
    "        \"startup\": {\n",
    "            \"purchase_behavior\": {\n",
    "                \"decision_cycle\": \"1-4 weeks\",\n",
    "                \"key_factors\": [\"Speed to market\", \"Cost\", \"Flexibility\"],\n",
    "                \"touchpoints\": [\"Social media\", \"Product hunt\", \"Referrals\", \"Free tier\"]\n",
    "            },\n",
    "            \"support_preferences\": {\n",
    "                \"channels\": [\"Chat\", \"Discord/Slack\", \"Email\"],\n",
    "                \"response_time\": \"24 hours\",\n",
    "                \"escalation_path\": \"Community → Support → Founder\"\n",
    "            }\n",
    "        }\n",
    "    }\n",
    "    \n",
    "    if customer_segment.lower() in customer_insights:\n",
    "        segment_data = customer_insights[customer_segment.lower()]\n",
    "        if behavior_type.lower() in segment_data:\n",
    "            return {\n",
    "                \"customer_segment\": customer_segment,\n",
    "                \"behavior_type\": behavior_type,\n",
    "                \"insights\": segment_data[behavior_type.lower()],\n",
    "                \"analysis_timestamp\": \"2024-01-15T10:00:00Z\"\n",
    "            }\n",
    "        else:\n",
    "            return {\n",
    "                \"error\": f\"No {behavior_type} data available for {customer_segment}\",\n",
    "                \"available_behaviors\": list(segment_data.keys())\n",
    "            }\n",
    "    else:\n",
    "        return {\n",
    "            \"error\": f\"No data available for {customer_segment}\",\n",
    "            \"available_segments\": list(customer_insights.keys())\n",
    "        }\n",
    "\n",
    "print(\"✅ Customer behavior analysis tool created successfully!\")"
   ]
  },
  {
   "cell_type": "markdown",
   "id": "b24488fb",
   "metadata": {},
   "source": [
    "## 5. Building Your First ADK Agent\n",
    "\n",
    "Now let's create our first ADK agent. We'll build a Business Intelligence Agent that can analyze markets, finances, and customer behavior."
   ]
  },
  {
   "cell_type": "code",
   "execution_count": 8,
   "id": "1b8d2330",
   "metadata": {},
   "outputs": [
    {
     "name": "stdout",
     "output_type": "stream",
     "text": [
      "✅ Tools wrapped successfully!\n",
      "Market Analysis Tool: analyze_market_trends\n",
      "Financial Analysis Tool: analyze_financial_metrics\n",
      "Customer Behavior Tool: analyze_customer_behavior\n"
     ]
    }
   ],
   "source": [
    "# Create FunctionTool instances from our functions\n",
    "market_tool = FunctionTool(func=analyze_market_trends)\n",
    "financial_tool = FunctionTool(func=analyze_financial_metrics)\n",
    "customer_tool = FunctionTool(func=analyze_customer_behavior)\n",
    "\n",
    "print(\"✅ Tools wrapped successfully!\")\n",
    "print(f\"Market Analysis Tool: {market_tool.name}\")\n",
    "print(f\"Financial Analysis Tool: {financial_tool.name}\")\n",
    "print(f\"Customer Behavior Tool: {customer_tool.name}\")"
   ]
  },
  {
   "cell_type": "code",
   "execution_count": 9,
   "id": "9c2ec6bb",
   "metadata": {},
   "outputs": [
    {
     "name": "stdout",
     "output_type": "stream",
     "text": [
      "✅ Business Intelligence Agent created successfully!\n",
      "Agent Name: business_intelligence_agent\n",
      "Agent Description: A sophisticated business intelligence agent that analyzes markets, finances, and customer behavior to provide actionable insights for enterprise decision-making.\n",
      "Number of Tools: 3\n"
     ]
    }
   ],
   "source": [
    "# Create the Business Intelligence Agent\n",
    "business_intelligence_agent = LlmAgent(\n",
    "    model=MODEL_NAME,\n",
    "    name=\"business_intelligence_agent\",\n",
    "    description=\"A sophisticated business intelligence agent that analyzes markets, finances, and customer behavior to provide actionable insights for enterprise decision-making.\",\n",
    "    instruction=\"\"\"\n",
    "You are a Business Intelligence Agent specializing analysis of market, financial and customer behavior.\n",
    "\n",
    "Your capabilities include:\n",
    "1. **Market Analysis**: Analyze industry trends, growth rates, and key market drivers\n",
    "2. **Financial Assessment**: Evaluate financial metrics and provide strategic recommendations\n",
    "3. **Customer Insights**: Understand customer behavior patterns and preferences\n",
    "\n",
    "When analyzing business scenarios:\n",
    "- Always use the appropriate tools to gather data\n",
    "- Provide structured, actionable insights\n",
    "- Offer strategic recommendations based on data\n",
    "- Maintain a professional, analytical tone\n",
    "\n",
    "Use the available tools to:\n",
    "- `analyze_market_trends`: For industry and regional market analysis\n",
    "- `analyze_financial_metrics`: For company financial assessment\n",
    "- `analyze_customer_behavior`: For customer segment insights\n",
    "\n",
    "Always structure your responses with clear sections: Analysis, Key Insights, Strategic Implications, and Recommendations.\n",
    "\"\"\",\n",
    "    tools=[market_tool, financial_tool, customer_tool]\n",
    ")\n",
    "\n",
    "print(\"✅ Business Intelligence Agent created successfully!\")\n",
    "print(f\"Agent Name: {business_intelligence_agent.name}\")\n",
    "print(f\"Agent Description: {business_intelligence_agent.description}\")\n",
    "print(f\"Number of Tools: {len(business_intelligence_agent.tools)}\")"
   ]
  },
  {
   "cell_type": "markdown",
   "id": "e9f1a89e",
   "metadata": {},
   "source": [
    "## 6. Setting Up Session Management\n",
    "\n",
    "ADK provides robust session management to maintain conversation context and state. Let's set this up."
   ]
  },
  {
   "cell_type": "code",
   "execution_count": 10,
   "id": "92f4420b",
   "metadata": {},
   "outputs": [
    {
     "name": "stdout",
     "output_type": "stream",
     "text": [
      "✅ Session created successfully!\n"
     ]
    }
   ],
   "source": [
    "# Initialize session service and create a session\n",
    "session_service = InMemorySessionService()\n",
    "\n",
    "# Create a new session for our agent\n",
    "session = await session_service.create_session(\n",
    "    app_name=APP_NAME,\n",
    "    user_id=USER_ID,\n",
    "    session_id=SESSION_ID\n",
    ")\n",
    "\n",
    "print(\"✅ Session created successfully!\")"
   ]
  },
  {
   "cell_type": "code",
   "execution_count": 11,
   "id": "b9fb0b25",
   "metadata": {},
   "outputs": [
    {
     "name": "stdout",
     "output_type": "stream",
     "text": [
      "✅ Runner created successfully!\n",
      "Agent: business_intelligence_agent\n",
      "App: adk_agent_app\n",
      "Session Service: InMemorySessionService\n"
     ]
    }
   ],
   "source": [
    "# Create a runner to execute our agent\n",
    "runner = Runner(\n",
    "    agent=business_intelligence_agent,\n",
    "    app_name=APP_NAME,\n",
    "    session_service=session_service\n",
    ")\n",
    "\n",
    "print(\"✅ Runner created successfully!\")\n",
    "print(f\"Agent: {runner.agent.name}\")\n",
    "print(f\"App: {runner.app_name}\")\n",
    "print(f\"Session Service: {type(runner.session_service).__name__}\")"
   ]
  },
  {
   "cell_type": "markdown",
   "id": "b987d701",
   "metadata": {},
   "source": [
    "## 7. Testing Your First Agent Interaction\n",
    "\n",
    "Now let's test our Business Intelligence Agent with a real business scenario."
   ]
  },
  {
   "cell_type": "code",
   "execution_count": 12,
   "id": "27e0b250",
   "metadata": {},
   "outputs": [
    {
     "name": "stdout",
     "output_type": "stream",
     "text": [
      "\n",
      "FINAL RESPONSE\n",
      "----------------------------------------\n",
      "📝 Text: Analysis:\n",
      "The healthcare market in Europe is characterized by a robust annual growth rate of 5.2%. This region maintains expansive universal healthcare systems, significant pharmaceutical innovation, and is a major destination for medical tourism.\n",
      "\n",
      "Key Insights:\n",
      "- Universal healthcare coverage in most European countries drives stable demand for health services and products.\n",
      "- Europe is a global leader in pharmaceutical research and development, fostering high rates of innovation.\n",
      "- Medical tourism is growing, supported by high care standards and competitive pricing in specific countries.\n",
      "\n",
      "Strategic Implications:\n",
      "- Opportunities exist for firms specializing in pharmaceuticals, medtech, and digital health, particularly those that can navigate universal healthcare procurement systems.\n",
      "- Partnering with regional healthcare providers and leveraging innovation in research and production can provide competitive advantages.\n",
      "- Investment in services or infrastructure supporting medical tourism—such as cross-border insurance and specialized treatment centers—may yield strong returns.\n",
      "\n",
      "Recommendations:\n",
      "1. Explore market entry or expansion in pharmaceuticals and medtech, focusing on jurisdictions with high state investment in healthcare.\n",
      "2. Build local partnerships to access public healthcare procurement channels.\n",
      "3. Invest in R&D or collaborative projects, leveraging Europe's focuses on innovation and long-term health system sustainability.\n",
      "4. Consider developing tailored offerings for inbound medical tourists, especially in specialized treatments or elective procedures.\n"
     ]
    },
    {
     "data": {
      "text/plain": [
       "\"Analysis:\\nThe healthcare market in Europe is characterized by a robust annual growth rate of 5.2%. This region maintains expansive universal healthcare systems, significant pharmaceutical innovation, and is a major destination for medical tourism.\\n\\nKey Insights:\\n- Universal healthcare coverage in most European countries drives stable demand for health services and products.\\n- Europe is a global leader in pharmaceutical research and development, fostering high rates of innovation.\\n- Medical tourism is growing, supported by high care standards and competitive pricing in specific countries.\\n\\nStrategic Implications:\\n- Opportunities exist for firms specializing in pharmaceuticals, medtech, and digital health, particularly those that can navigate universal healthcare procurement systems.\\n- Partnering with regional healthcare providers and leveraging innovation in research and production can provide competitive advantages.\\n- Investment in services or infrastructure supporting medical tourism—such as cross-border insurance and specialized treatment centers—may yield strong returns.\\n\\nRecommendations:\\n1. Explore market entry or expansion in pharmaceuticals and medtech, focusing on jurisdictions with high state investment in healthcare.\\n2. Build local partnerships to access public healthcare procurement channels.\\n3. Invest in R&D or collaborative projects, leveraging Europe's focuses on innovation and long-term health system sustainability.\\n4. Consider developing tailored offerings for inbound medical tourists, especially in specialized treatments or elective procedures.\""
      ]
     },
     "execution_count": 12,
     "metadata": {},
     "output_type": "execute_result"
    }
   ],
   "source": [
    "def call_agent(query):\n",
    "    content = types.Content(role='user', parts=[types.Part(text=query)])\n",
    "    events = runner.run(user_id=USER_ID, session_id=SESSION_ID, new_message=content)\n",
    "    \n",
    "    for event in events:\n",
    "        if event.is_final_response() and event.content:\n",
    "            print(\"\\nFINAL RESPONSE\")\n",
    "            print(\"-\" * 40)\n",
    "            \n",
    "            for part in event.content.parts:\n",
    "                if hasattr(part, 'text') and part.text:\n",
    "                    print(f\"📝 Text: {part.text}\")\n",
    "                elif hasattr(part, 'function_call'):\n",
    "                    print(f\"🔧 Function Call: {part.function_call}\")\n",
    "                else:\n",
    "                    print(f\"❓ Unknown Part Type: {type(part)}\")\n",
    "            \n",
    "            return event.content.parts[0].text.strip() if event.content.parts else None\n",
    "    return None\n",
    "\n",
    "# Call the agent\n",
    "call_agent(\"Analyze about helthcare market in Europe\")"
   ]
  },
  {
   "cell_type": "markdown",
   "id": "b987d701",
   "metadata": {},
   "source": [
    "## 8. ADK vs Other Frameworks: Key Advantages\n",
    "\n",
    "Google’s **Agent Development Kit (ADK)** provides a structured, production-ready framework for building scalable and secure AI agents. \n",
    "\n",
    "> ADK is a flexible and modular framework for developing and deploying AI agents. While optimized for Gemini and the Google ecosystem, ADK is model-agnostic, deployment-agnostic, and is built for compatibility with other frameworks. ADK was designed to make agent development feel more like software development, to make it easier for developers to create, deploy, and orchestrate agentic architectures that range from simple tasks to complex workflows.\n",
    "\n",
    "### Key Advantages\n",
    "\n",
    "- **Flexible Orchestration**  \n",
    "  Combine deterministic workflow agents (Sequential, Parallel, Loop) with LLM-driven adaptive routing for both predictable pipelines and dynamic decision-making.\n",
    "\n",
    "- **Hierarchical Multi-Agent Architecture**  \n",
    "  Build modular applications with specialized agents arranged in clear hierarchies, enabling delegation, scalability, and complex workflows.\n",
    "\n",
    "- **Rich Tool Ecosystem**  \n",
    "  Use pre-built tools (Search, Code Exec), integrate custom functions or third-party libraries, and even chain other agents as callable tools.\n",
    "\n",
    "- **Deployment Ready**  \n",
    "  Scale seamlessly with **Vertex AI Agent Engine**, **Cloud Run**, or Dockerized infrastructure.\n",
    "\n",
    "- **Built-in Evaluation**  \n",
    "  Systematically test both final outputs and intermediate steps, ensuring reliability, compliance, and quality in enterprise settings.\n",
    "\n",
    "- **Safety & Security by Design**  \n",
    "  Incorporate guardrails, policies, and best practices to build trustworthy, enterprise-grade agents aligned with compliance standards.\n",
    "\n",
    "---\n",
    "\n",
    "✅ **When to Choose ADK**  \n",
    "ADK is ideal for developers who need **hierarchical multi-agent systems**, seamless **Google Cloud integration**, and **built-in evaluation + deployment pipelines** — all within a framework that treats agents as reusable, software-like components.\n"
   ]
  },
  {
   "cell_type": "markdown",
   "id": "b987d701",
   "metadata": {},
   "source": [
    "## 9. Exercise: Build Your Own ADK Agent\n",
    "\n",
    "Now it's your turn to create an ADK agent for a specific case scenario. Choose one of the following exercises:"
   ]
  },
  {
   "cell_type": "code",
   "execution_count": 13,
   "id": "92f4420b",
   "metadata": {},
   "outputs": [],
   "source": [
    "# Exercise 1: Customer Success Agent\n",
    "# Create an agent that helps customer success teams\n",
    "\n",
    "def create_customer_success_agent():\n",
    "    \"\"\"Create a customer success agent.\"\"\"\n",
    "    \n",
    "    # Create an agent that can:\n",
    "    #   • Analyze customer health metrics\n",
    "    #   • Provide onboarding recommendations\n",
    "    #   • Suggest retention strategies\n",
    "    #   • Handle common support queries\n",
    "    \n",
    "    # TODO: Implement your customer success agent here\n",
    "    # 1. Define the agent's identity and purpose\n",
    "    # 2. Create relevant tools for customer analysis\n",
    "    # 3. Write comprehensive instructions\n",
    "    # 4. Test with sample customer scenarios\n",
    "    \n",
    "    return \"Customer success agent implementation goes here\"\n",
    "\n",
    "# Exercise 2: Financial Planning Agent\n",
    "# Create an agent for financial planning and analysis\n",
    "\n",
    "def create_financial_planning_agent():\n",
    "    \"\"\"Create a financial planning agent.\"\"\"\n",
    "        \n",
    "    # Create an agent that can:\n",
    "    #   • Analyze financial statements\n",
    "    #   • Provide budgeting recommendations\n",
    "    #   • Assess investment opportunities\n",
    "    #   • Generate financial reports\n",
    "    \n",
    "    # TODO: Implement your financial planning agent here\n",
    "    # 1. Define the agent's identity and purpose\n",
    "    # 2. Create relevant tools for financial analysis\n",
    "    # 3. Write comprehensive instructions\n",
    "    # 4. Test with sample financial scenarios\n",
    "    \n",
    "    return \"Financial planning agent implementation goes here\""
   ]
  },
  {
   "cell_type": "markdown",
   "id": "b987d701",
   "metadata": {},
   "source": [
    "## 10. Conclusion\n",
    "\n",
    "Congratulations! You've successfully completed the lesson on Google ADK. You now understand:\n",
    "\n",
    "### Technical Competencies\n",
    "- How to create and configure ADK agents with clear identity and purpose\n",
    "- How to implement tools and instructions for agent behavior\n",
    "- How to manage agent sessions and state\n",
    "\n",
    "### Next Steps\n",
    "\n",
    "In future lessons, you'll learn about:\n",
    "\n",
    "- Multi-agent systems with ADK\n",
    "- Advanced tool integration and custom tools\n",
    "- Deployment strategies for production\n",
    "\n",
    "---\n",
    "\n",
    "Happy coding with Google ADK! 🚀\n",
    "\n",
    "- 📘 **Official Documentation**: [Google ADK Docs](https://google.github.io/adk-docs/)  \n",
    "Explore the full reference, architecture guides, and advanced usage patterns."
   ]
  }
 ],
 "metadata": {
  "kernelspec": {
   "display_name": "venv",
   "language": "python",
   "name": "python3"
  },
  "language_info": {
   "codemirror_mode": {
    "name": "ipython",
    "version": 3
   },
   "file_extension": ".py",
   "mimetype": "text/x-python",
   "name": "python",
   "nbconvert_exporter": "python",
   "pygments_lexer": "ipython3",
   "version": "3.12.0"
  }
 },
 "nbformat": 4,
 "nbformat_minor": 5
}
